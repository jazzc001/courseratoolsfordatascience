{
  "nbformat": 4,
  "nbformat_minor": 0,
  "metadata": {
    "colab": {
      "name": "00_tensorflow_fundamentals.ipynb",
      "provenance": [],
      "mount_file_id": "18CC5NfTu0x8l-BCkOpDrAApmLPnZ8QtC",
      "authorship_tag": "ABX9TyN2qWEOwZqKiJ7/ux+dmL8y",
      "include_colab_link": true
    },
    "kernelspec": {
      "name": "python3",
      "display_name": "Python 3"
    },
    "language_info": {
      "name": "python"
    },
    "accelerator": "GPU"
  },
  "cells": [
    {
      "cell_type": "markdown",
      "metadata": {
        "id": "view-in-github",
        "colab_type": "text"
      },
      "source": [
        "<a href=\"https://colab.research.google.com/github/jazzc001/courseratoolsfordatascience/blob/main/00_tensorflow_fundamentals.ipynb\" target=\"_parent\"><img src=\"https://colab.research.google.com/assets/colab-badge.svg\" alt=\"Open In Colab\"/></a>"
      ]
    },
    {
      "cell_type": "markdown",
      "metadata": {
        "id": "87_s841CdiZ8"
      },
      "source": [
        "#In this notebook, we are going to cover some of the most fundamental concepts of tensors using TensorFlow\n",
        "\n",
        "More sepcifically, we're going to cover:\n",
        "* Introduction to tensors\n",
        "* Getting information from tensors\n",
        "* Manipulating tensors\n",
        "* Tensors & NumPy\n",
        "* Using @tf.function (a way to speed up your regular python functions)\n",
        "* Using GPUs with TensorFlow (or TPUs)\n",
        "* Exercises to try for yourself"
      ]
    },
    {
      "cell_type": "markdown",
      "metadata": {
        "id": "eRisFgbd4M7b"
      },
      "source": [
        "#Introduction to Tensors"
      ]
    },
    {
      "cell_type": "code",
      "metadata": {
        "colab": {
          "base_uri": "https://localhost:8080/"
        },
        "id": "AegeduuieMN4",
        "outputId": "6165d4b5-c249-4f9e-a08b-2ab66ac7005e"
      },
      "source": [
        "# Import TensorFlow\n",
        "import tensorflow as tf\n",
        "print(tf.__version__)"
      ],
      "execution_count": 3,
      "outputs": [
        {
          "output_type": "stream",
          "text": [
            "2.5.0\n"
          ],
          "name": "stdout"
        }
      ]
    },
    {
      "cell_type": "code",
      "metadata": {
        "colab": {
          "base_uri": "https://localhost:8080/"
        },
        "id": "1g9ee0mCeYtr",
        "outputId": "dce19509-9f2e-4089-909c-75ef007c85d6"
      },
      "source": [
        "# Create tensors with tf.constant()\n",
        "scalar = tf.constant(7)\n",
        "scalar"
      ],
      "execution_count": 4,
      "outputs": [
        {
          "output_type": "execute_result",
          "data": {
            "text/plain": [
              "<tf.Tensor: shape=(), dtype=int32, numpy=7>"
            ]
          },
          "metadata": {
            "tags": []
          },
          "execution_count": 4
        }
      ]
    },
    {
      "cell_type": "code",
      "metadata": {
        "colab": {
          "base_uri": "https://localhost:8080/"
        },
        "id": "v5Tqw-7cew9H",
        "outputId": "39b04594-a90a-400f-dd18-96bd3222a1a1"
      },
      "source": [
        "# Check the number of dimensions of a tensor (ndim stands for number of dimensions)\n",
        "scalar.ndim"
      ],
      "execution_count": 5,
      "outputs": [
        {
          "output_type": "execute_result",
          "data": {
            "text/plain": [
              "0"
            ]
          },
          "metadata": {
            "tags": []
          },
          "execution_count": 5
        }
      ]
    },
    {
      "cell_type": "code",
      "metadata": {
        "colab": {
          "base_uri": "https://localhost:8080/"
        },
        "id": "XfctP_QJfIxh",
        "outputId": "002246ef-a410-41fe-9f5c-6c2a29329dc4"
      },
      "source": [
        "#Create a vector\n",
        "vector = tf.constant([10,10])\n",
        "vector"
      ],
      "execution_count": 6,
      "outputs": [
        {
          "output_type": "execute_result",
          "data": {
            "text/plain": [
              "<tf.Tensor: shape=(2,), dtype=int32, numpy=array([10, 10], dtype=int32)>"
            ]
          },
          "metadata": {
            "tags": []
          },
          "execution_count": 6
        }
      ]
    },
    {
      "cell_type": "code",
      "metadata": {
        "colab": {
          "base_uri": "https://localhost:8080/"
        },
        "id": "BbMVIxJWfTaL",
        "outputId": "84e9e4eb-256c-4900-f46f-4ef0a805c19b"
      },
      "source": [
        "#check the dimension of our vector\n",
        "vector.ndim"
      ],
      "execution_count": 7,
      "outputs": [
        {
          "output_type": "execute_result",
          "data": {
            "text/plain": [
              "1"
            ]
          },
          "metadata": {
            "tags": []
          },
          "execution_count": 7
        }
      ]
    },
    {
      "cell_type": "code",
      "metadata": {
        "colab": {
          "base_uri": "https://localhost:8080/"
        },
        "id": "pa-I-u-0fbcK",
        "outputId": "5d7925fc-0763-45bb-bbcd-739254864478"
      },
      "source": [
        "#create a matrix (has more than 1 dimension)\n",
        "matrix = tf.constant([[10, 7], [7, 10]])\n",
        "matrix\n"
      ],
      "execution_count": 8,
      "outputs": [
        {
          "output_type": "execute_result",
          "data": {
            "text/plain": [
              "<tf.Tensor: shape=(2, 2), dtype=int32, numpy=\n",
              "array([[10,  7],\n",
              "       [ 7, 10]], dtype=int32)>"
            ]
          },
          "metadata": {
            "tags": []
          },
          "execution_count": 8
        }
      ]
    },
    {
      "cell_type": "code",
      "metadata": {
        "colab": {
          "base_uri": "https://localhost:8080/"
        },
        "id": "fKlJCGIvfgfq",
        "outputId": "24053dbb-611f-4bf0-fa0b-222d1994d5e4"
      },
      "source": [
        "matrix.ndim\n"
      ],
      "execution_count": 9,
      "outputs": [
        {
          "output_type": "execute_result",
          "data": {
            "text/plain": [
              "2"
            ]
          },
          "metadata": {
            "tags": []
          },
          "execution_count": 9
        }
      ]
    },
    {
      "cell_type": "code",
      "metadata": {
        "colab": {
          "base_uri": "https://localhost:8080/"
        },
        "id": "xHvkSLQwgWBe",
        "outputId": "38f0af8f-6d4a-4afb-e7ef-5d99a3c8cec2"
      },
      "source": [
        "# create another matrix\n",
        "another_matrix = tf.constant([[10., 7.],\n",
        "                              [3., 2.],\n",
        "                             [8., 9.]], dtype = tf.float16) #specify the data type with dtype parameter\n",
        "\n",
        "another_matrix"
      ],
      "execution_count": 10,
      "outputs": [
        {
          "output_type": "execute_result",
          "data": {
            "text/plain": [
              "<tf.Tensor: shape=(3, 2), dtype=float16, numpy=\n",
              "array([[10.,  7.],\n",
              "       [ 3.,  2.],\n",
              "       [ 8.,  9.]], dtype=float16)>"
            ]
          },
          "metadata": {
            "tags": []
          },
          "execution_count": 10
        }
      ]
    },
    {
      "cell_type": "code",
      "metadata": {
        "colab": {
          "base_uri": "https://localhost:8080/"
        },
        "id": "ZmP1Y7nUhXnt",
        "outputId": "be3a526d-7bd9-4bfa-a539-a3ae75f65d8d"
      },
      "source": [
        "#What's the number of the ndim of another_matrix would be?\n",
        "another_matrix.ndim"
      ],
      "execution_count": 11,
      "outputs": [
        {
          "output_type": "execute_result",
          "data": {
            "text/plain": [
              "2"
            ]
          },
          "metadata": {
            "tags": []
          },
          "execution_count": 11
        }
      ]
    },
    {
      "cell_type": "code",
      "metadata": {
        "colab": {
          "base_uri": "https://localhost:8080/"
        },
        "id": "QbmuvODNh_j7",
        "outputId": "88f18c9c-6ae2-4a40-e7d9-edfbff245d63"
      },
      "source": [
        "# Let's create a tensor\n",
        "tensor = tf.constant([[[1, 2, 3],[4, 5, 6]],\n",
        "                      [[6, 7, 8], [10, 11, 12]],\n",
        "                      [[12, 13, 14],[15,16,17]]])\n",
        "tensor"
      ],
      "execution_count": 12,
      "outputs": [
        {
          "output_type": "execute_result",
          "data": {
            "text/plain": [
              "<tf.Tensor: shape=(3, 2, 3), dtype=int32, numpy=\n",
              "array([[[ 1,  2,  3],\n",
              "        [ 4,  5,  6]],\n",
              "\n",
              "       [[ 6,  7,  8],\n",
              "        [10, 11, 12]],\n",
              "\n",
              "       [[12, 13, 14],\n",
              "        [15, 16, 17]]], dtype=int32)>"
            ]
          },
          "metadata": {
            "tags": []
          },
          "execution_count": 12
        }
      ]
    },
    {
      "cell_type": "code",
      "metadata": {
        "colab": {
          "base_uri": "https://localhost:8080/"
        },
        "id": "7BYi350PiueI",
        "outputId": "334a9792-5f3e-4f9a-c7eb-0349a9b5e279"
      },
      "source": [
        "tensor.ndim"
      ],
      "execution_count": 13,
      "outputs": [
        {
          "output_type": "execute_result",
          "data": {
            "text/plain": [
              "3"
            ]
          },
          "metadata": {
            "tags": []
          },
          "execution_count": 13
        }
      ]
    },
    {
      "cell_type": "code",
      "metadata": {
        "colab": {
          "base_uri": "https://localhost:8080/",
          "height": 130
        },
        "id": "1wS1lJU7jYxp",
        "outputId": "edf861b1-bd0b-4979-cedd-297d1257fdc7"
      },
      "source": [
        "#What we've created so far:\n",
        "\n",
        "* Scalar: a single number\n",
        "* Vector: a number with direction (e.g wind speed and direction)\n",
        "* Matrix: a 2-dimensional array of numbers\n",
        "* Tensor: an n-dimensional array of numbers (when n can be any number, a 0-dimensional tensor is a scalar, a 1-dimensional tensor is a vector)"
      ],
      "execution_count": 15,
      "outputs": [
        {
          "output_type": "error",
          "ename": "SyntaxError",
          "evalue": "ignored",
          "traceback": [
            "\u001b[0;36m  File \u001b[0;32m\"<ipython-input-15-85b7c61fafd7>\"\u001b[0;36m, line \u001b[0;32m3\u001b[0m\n\u001b[0;31m    * Scalar: a single number\u001b[0m\n\u001b[0m                     ^\u001b[0m\n\u001b[0;31mSyntaxError\u001b[0m\u001b[0;31m:\u001b[0m invalid syntax\n"
          ]
        }
      ]
    },
    {
      "cell_type": "code",
      "metadata": {
        "colab": {
          "base_uri": "https://localhost:8080/"
        },
        "id": "HTTL87XDkzdL",
        "outputId": "2241ed69-9fa5-4f53-b266-70c099ce44a7"
      },
      "source": [
        "# Creating tensors with tf.Variable\n",
        "changable_tensor = tf.Variable([10, 7])\n",
        "unchangable_tensor = tf.constant([10, 7])\n",
        "changable_tensor, unchangable_tensor"
      ],
      "execution_count": 16,
      "outputs": [
        {
          "output_type": "execute_result",
          "data": {
            "text/plain": [
              "(<tf.Variable 'Variable:0' shape=(2,) dtype=int32, numpy=array([10,  7], dtype=int32)>,\n",
              " <tf.Tensor: shape=(2,), dtype=int32, numpy=array([10,  7], dtype=int32)>)"
            ]
          },
          "metadata": {
            "tags": []
          },
          "execution_count": 16
        }
      ]
    },
    {
      "cell_type": "code",
      "metadata": {
        "colab": {
          "base_uri": "https://localhost:8080/",
          "height": 198
        },
        "id": "4cZzpJXMk50i",
        "outputId": "dd7149de-76b2-4b4d-b0bd-4881b6a8c97c"
      },
      "source": [
        "# Let's try change one of the elements in our changable tensor\n",
        "changable_tensor[0] = 7\n",
        "changable_tensor"
      ],
      "execution_count": 17,
      "outputs": [
        {
          "output_type": "error",
          "ename": "TypeError",
          "evalue": "ignored",
          "traceback": [
            "\u001b[0;31m---------------------------------------------------------------------------\u001b[0m",
            "\u001b[0;31mTypeError\u001b[0m                                 Traceback (most recent call last)",
            "\u001b[0;32m<ipython-input-17-1f40b4d331ea>\u001b[0m in \u001b[0;36m<module>\u001b[0;34m()\u001b[0m\n\u001b[1;32m      1\u001b[0m \u001b[0;31m# Let's try change one of the elements in our changable tensor\u001b[0m\u001b[0;34m\u001b[0m\u001b[0;34m\u001b[0m\u001b[0;34m\u001b[0m\u001b[0m\n\u001b[0;32m----> 2\u001b[0;31m \u001b[0mchangable_tensor\u001b[0m\u001b[0;34m[\u001b[0m\u001b[0;36m0\u001b[0m\u001b[0;34m]\u001b[0m \u001b[0;34m=\u001b[0m \u001b[0;36m7\u001b[0m\u001b[0;34m\u001b[0m\u001b[0;34m\u001b[0m\u001b[0m\n\u001b[0m\u001b[1;32m      3\u001b[0m \u001b[0mchangable_tensor\u001b[0m\u001b[0;34m\u001b[0m\u001b[0;34m\u001b[0m\u001b[0m\n",
            "\u001b[0;31mTypeError\u001b[0m: 'ResourceVariable' object does not support item assignment"
          ]
        }
      ]
    },
    {
      "cell_type": "code",
      "metadata": {
        "id": "e6Io0kOamZgY"
      },
      "source": [
        "#How about we try .assign()\n",
        "\n",
        "changable_tensor[0].assign(7)\n",
        "changable_tensor"
      ],
      "execution_count": null,
      "outputs": []
    },
    {
      "cell_type": "code",
      "metadata": {
        "colab": {
          "base_uri": "https://localhost:8080/",
          "height": 317
        },
        "id": "43tl53-bmqbb",
        "outputId": "9436ca15-5eb4-4da3-c2dd-2917b6013727"
      },
      "source": [
        "# Let's try to change our unchangable tensor\n",
        "unchangable_tensor[0].assign(7)\n",
        "unchangable_tensor"
      ],
      "execution_count": 18,
      "outputs": [
        {
          "output_type": "error",
          "ename": "AttributeError",
          "evalue": "ignored",
          "traceback": [
            "\u001b[0;31m---------------------------------------------------------------------------\u001b[0m",
            "\u001b[0;31mAttributeError\u001b[0m                            Traceback (most recent call last)",
            "\u001b[0;32m<ipython-input-18-abc27995b25a>\u001b[0m in \u001b[0;36m<module>\u001b[0;34m()\u001b[0m\n\u001b[1;32m      1\u001b[0m \u001b[0;31m# Let's try to change our unchangable tensor\u001b[0m\u001b[0;34m\u001b[0m\u001b[0;34m\u001b[0m\u001b[0;34m\u001b[0m\u001b[0m\n\u001b[0;32m----> 2\u001b[0;31m \u001b[0munchangable_tensor\u001b[0m\u001b[0;34m[\u001b[0m\u001b[0;36m0\u001b[0m\u001b[0;34m]\u001b[0m\u001b[0;34m.\u001b[0m\u001b[0massign\u001b[0m\u001b[0;34m(\u001b[0m\u001b[0;36m7\u001b[0m\u001b[0;34m)\u001b[0m\u001b[0;34m\u001b[0m\u001b[0;34m\u001b[0m\u001b[0m\n\u001b[0m\u001b[1;32m      3\u001b[0m \u001b[0munchangable_tensor\u001b[0m\u001b[0;34m\u001b[0m\u001b[0;34m\u001b[0m\u001b[0m\n",
            "\u001b[0;32m/usr/local/lib/python3.7/dist-packages/tensorflow/python/framework/ops.py\u001b[0m in \u001b[0;36m__getattr__\u001b[0;34m(self, name)\u001b[0m\n\u001b[1;32m    399\u001b[0m         \u001b[0;32mimport\u001b[0m \u001b[0mtensorflow\u001b[0m\u001b[0;34m.\u001b[0m\u001b[0mpython\u001b[0m\u001b[0;34m.\u001b[0m\u001b[0mops\u001b[0m\u001b[0;34m.\u001b[0m\u001b[0mnumpy_ops\u001b[0m\u001b[0;34m.\u001b[0m\u001b[0mnp_config\u001b[0m\u001b[0;34m\u001b[0m\u001b[0;34m\u001b[0m\u001b[0m\n\u001b[1;32m    400\u001b[0m         np_config.enable_numpy_behavior()\"\"\".format(type(self).__name__, name))\n\u001b[0;32m--> 401\u001b[0;31m     \u001b[0mself\u001b[0m\u001b[0;34m.\u001b[0m\u001b[0m__getattribute__\u001b[0m\u001b[0;34m(\u001b[0m\u001b[0mname\u001b[0m\u001b[0;34m)\u001b[0m\u001b[0;34m\u001b[0m\u001b[0;34m\u001b[0m\u001b[0m\n\u001b[0m\u001b[1;32m    402\u001b[0m \u001b[0;34m\u001b[0m\u001b[0m\n\u001b[1;32m    403\u001b[0m   \u001b[0;34m@\u001b[0m\u001b[0mstaticmethod\u001b[0m\u001b[0;34m\u001b[0m\u001b[0;34m\u001b[0m\u001b[0m\n",
            "\u001b[0;31mAttributeError\u001b[0m: 'tensorflow.python.framework.ops.EagerTensor' object has no attribute 'assign'"
          ]
        }
      ]
    },
    {
      "cell_type": "code",
      "metadata": {
        "id": "xwafTNrFoiGb"
      },
      "source": [
        ""
      ],
      "execution_count": null,
      "outputs": []
    },
    {
      "cell_type": "code",
      "metadata": {
        "id": "Os9n6Sxun66p"
      },
      "source": [
        "### Creating random tensors\n",
        "\n",
        "Random tensors are tensors of some abitrary size which contain random numbers."
      ],
      "execution_count": null,
      "outputs": []
    },
    {
      "cell_type": "code",
      "metadata": {
        "id": "LWW-w3iFobvu"
      },
      "source": [
        "# Create two random (but the same) tensors\n",
        "random_1 = tf.random.Generator.from_seed(42) #set seed for reproducibility\n",
        "random_1 = random_1.normal(shape=(3, 2))\n",
        "random_2 = tf.random.Generator.from_seed(42) \n",
        "random_2 = random_2.normal(shape =(3,2))\n",
        "\n",
        "#Are they equal?\n",
        "random_1, random_2, random_1 == random_2"
      ],
      "execution_count": null,
      "outputs": []
    },
    {
      "cell_type": "code",
      "metadata": {
        "id": "CyNp9NoUp2Qc"
      },
      "source": [
        "#Suffle the order of elements in a tensor"
      ],
      "execution_count": null,
      "outputs": []
    },
    {
      "cell_type": "code",
      "metadata": {
        "colab": {
          "base_uri": "https://localhost:8080/"
        },
        "id": "jnv_bovlrab4",
        "outputId": "a5eb2e38-cfdf-4e27-f19b-901095e10f8a"
      },
      "source": [
        "# shuffle a tensor (valuable for when you want to shuffle your data so the interent order doesn't affect learning)\n",
        "not_shuffled = tf.constant([[10,7],\n",
        "                           [3,4],\n",
        "                           [2, 5]])\n",
        "not_shuffled.ndim\n",
        "\n",
        "# Shuffle our non-shuffled tensor\n",
        "tf.random.shuffle(not_shuffled)"
      ],
      "execution_count": 19,
      "outputs": [
        {
          "output_type": "execute_result",
          "data": {
            "text/plain": [
              "<tf.Tensor: shape=(3, 2), dtype=int32, numpy=\n",
              "array([[ 3,  4],\n",
              "       [10,  7],\n",
              "       [ 2,  5]], dtype=int32)>"
            ]
          },
          "metadata": {
            "tags": []
          },
          "execution_count": 19
        }
      ]
    },
    {
      "cell_type": "markdown",
      "metadata": {
        "id": "y50SCf1LvH7C"
      },
      "source": [
        "**Exercise: ** Read through TensorFlow documentation on random seed generation: https://www.tensorflow.org/api_docs/python/tf/random/set_seed\n",
        "and practice writing 5 random tensors and shuffle them.\n",
        "\n",
        "It lookds like if we want our shuffled tensors to be in the same order, we've got to use the global level random seed as well as the operation level random seed:\n",
        "\n",
        ">Rule 4: \"If both the global and the operation seed are set: Both seeds are used in conjunction to determine the random sequence."
      ]
    },
    {
      "cell_type": "code",
      "metadata": {
        "colab": {
          "base_uri": "https://localhost:8080/"
        },
        "id": "Rw1kpo1TszPU",
        "outputId": "61ed0288-e8ac-4cb4-810a-0dd28887af98"
      },
      "source": [
        "# Shuffle our non-shuffled tensor\n",
        "tf.random.set_seed(31)\n",
        "tf.random.shuffle(not_shuffled)"
      ],
      "execution_count": 20,
      "outputs": [
        {
          "output_type": "execute_result",
          "data": {
            "text/plain": [
              "<tf.Tensor: shape=(3, 2), dtype=int32, numpy=\n",
              "array([[10,  7],\n",
              "       [ 2,  5],\n",
              "       [ 3,  4]], dtype=int32)>"
            ]
          },
          "metadata": {
            "tags": []
          },
          "execution_count": 20
        }
      ]
    },
    {
      "cell_type": "code",
      "metadata": {
        "colab": {
          "base_uri": "https://localhost:8080/"
        },
        "id": "XThN6z0Ns2yS",
        "outputId": "37f75b76-004d-456b-9851-24ea250eb6c0"
      },
      "source": [
        "tf.random.set_seed(42)\n",
        "tf.random.shuffle(not_shuffled, seed = 42)\n"
      ],
      "execution_count": 21,
      "outputs": [
        {
          "output_type": "execute_result",
          "data": {
            "text/plain": [
              "<tf.Tensor: shape=(3, 2), dtype=int32, numpy=\n",
              "array([[10,  7],\n",
              "       [ 3,  4],\n",
              "       [ 2,  5]], dtype=int32)>"
            ]
          },
          "metadata": {
            "tags": []
          },
          "execution_count": 21
        }
      ]
    },
    {
      "cell_type": "code",
      "metadata": {
        "id": "uPVwzJsVtnOx"
      },
      "source": [
        "#Other ways to make tensor"
      ],
      "execution_count": 22,
      "outputs": []
    },
    {
      "cell_type": "code",
      "metadata": {
        "colab": {
          "base_uri": "https://localhost:8080/"
        },
        "id": "SgZVnIdxzFqI",
        "outputId": "3b0dc2a0-2926-4b86-bff0-fdf8f4856f1b"
      },
      "source": [
        "# Create a tensor of all ones\n",
        "tf.ones({10,7})"
      ],
      "execution_count": 23,
      "outputs": [
        {
          "output_type": "execute_result",
          "data": {
            "text/plain": [
              "<tf.Tensor: shape=(10, 7), dtype=float32, numpy=\n",
              "array([[1., 1., 1., 1., 1., 1., 1.],\n",
              "       [1., 1., 1., 1., 1., 1., 1.],\n",
              "       [1., 1., 1., 1., 1., 1., 1.],\n",
              "       [1., 1., 1., 1., 1., 1., 1.],\n",
              "       [1., 1., 1., 1., 1., 1., 1.],\n",
              "       [1., 1., 1., 1., 1., 1., 1.],\n",
              "       [1., 1., 1., 1., 1., 1., 1.],\n",
              "       [1., 1., 1., 1., 1., 1., 1.],\n",
              "       [1., 1., 1., 1., 1., 1., 1.],\n",
              "       [1., 1., 1., 1., 1., 1., 1.]], dtype=float32)>"
            ]
          },
          "metadata": {
            "tags": []
          },
          "execution_count": 23
        }
      ]
    },
    {
      "cell_type": "code",
      "metadata": {
        "colab": {
          "base_uri": "https://localhost:8080/"
        },
        "id": "5bi06LVqzTXl",
        "outputId": "0ea53702-232a-4754-b537-5d72e434fc35"
      },
      "source": [
        "#Create a tensor of all zeros\n",
        "tf.zeros(shape = [3,4])\n"
      ],
      "execution_count": 24,
      "outputs": [
        {
          "output_type": "execute_result",
          "data": {
            "text/plain": [
              "<tf.Tensor: shape=(3, 4), dtype=float32, numpy=\n",
              "array([[0., 0., 0., 0.],\n",
              "       [0., 0., 0., 0.],\n",
              "       [0., 0., 0., 0.]], dtype=float32)>"
            ]
          },
          "metadata": {
            "tags": []
          },
          "execution_count": 24
        }
      ]
    },
    {
      "cell_type": "markdown",
      "metadata": {
        "id": "mXGeH4Ziz7ju"
      },
      "source": [
        "### Trun NumPy arrays into tensors\n",
        "\n",
        "The main difference between NumPy arrays and TensorFlow tensors is that tensors can be run on a GPU (much faster for numberical computing)."
      ]
    },
    {
      "cell_type": "code",
      "metadata": {
        "colab": {
          "base_uri": "https://localhost:8080/"
        },
        "id": "fiLhWgfhzyw7",
        "outputId": "50b471d4-8789-472b-f8e1-73012a8b9606"
      },
      "source": [
        "#You can also turn NumPy arrays into tensors\n",
        "import numpy as np\n",
        "numpy_A = np.arange(1, 25, dtype = np.int32) #create a NumPy array between 1 and 25\n",
        "numpy_A\n",
        "\n",
        "#X = tf.constant(some_matrix) #capital for matrix or tensor\n",
        "#y = tf.constant(vector) #non-capital for vector"
      ],
      "execution_count": 25,
      "outputs": [
        {
          "output_type": "execute_result",
          "data": {
            "text/plain": [
              "array([ 1,  2,  3,  4,  5,  6,  7,  8,  9, 10, 11, 12, 13, 14, 15, 16, 17,\n",
              "       18, 19, 20, 21, 22, 23, 24], dtype=int32)"
            ]
          },
          "metadata": {
            "tags": []
          },
          "execution_count": 25
        }
      ]
    },
    {
      "cell_type": "code",
      "metadata": {
        "colab": {
          "base_uri": "https://localhost:8080/"
        },
        "id": "Vsfw8CDk1ELj",
        "outputId": "d529263d-c9a0-42b9-c05c-7f2e2509ecc6"
      },
      "source": [
        "A = tf.constant(numpy_A, shape=(2,3,4))\n",
        "A\n",
        "A.ndim"
      ],
      "execution_count": 26,
      "outputs": [
        {
          "output_type": "execute_result",
          "data": {
            "text/plain": [
              "3"
            ]
          },
          "metadata": {
            "tags": []
          },
          "execution_count": 26
        }
      ]
    },
    {
      "cell_type": "code",
      "metadata": {
        "id": "h6UsNN6E1QQn",
        "colab": {
          "base_uri": "https://localhost:8080/",
          "height": 130
        },
        "outputId": "c5811a90-201c-45c0-a4c7-99739a05f04f"
      },
      "source": [
        "## Getting information from tensors\n",
        "When dealing with tensors you probaly want to be aware of the following attributes:\n",
        "*Shape\n",
        "*Rank\n",
        "* Axis or dimension\n",
        "* Size"
      ],
      "execution_count": 27,
      "outputs": [
        {
          "output_type": "error",
          "ename": "SyntaxError",
          "evalue": "ignored",
          "traceback": [
            "\u001b[0;36m  File \u001b[0;32m\"<ipython-input-27-25ef025f0afd>\"\u001b[0;36m, line \u001b[0;32m2\u001b[0m\n\u001b[0;31m    When dealing with tensors you probaly want to be aware of the following attributes:\u001b[0m\n\u001b[0m               ^\u001b[0m\n\u001b[0;31mSyntaxError\u001b[0m\u001b[0;31m:\u001b[0m invalid syntax\n"
          ]
        }
      ]
    },
    {
      "cell_type": "code",
      "metadata": {
        "id": "LpSFlrxr2q8k"
      },
      "source": [
        "#Creat a rank 4 tensor (4 dimensions)\n",
        "rank_4_tensor = tf.zeros(shape = [2,3,4,5])\n",
        "rank_4_tensor"
      ],
      "execution_count": null,
      "outputs": []
    },
    {
      "cell_type": "code",
      "metadata": {
        "id": "tiRw-Dhv3ckt"
      },
      "source": [
        "rank_4_tensor[1]"
      ],
      "execution_count": null,
      "outputs": []
    },
    {
      "cell_type": "code",
      "metadata": {
        "id": "MsQgW5mP4B78"
      },
      "source": [
        "rank_4_tensor.shape, rank_4_tensor.ndim, tf.size(rank_4_tensor)"
      ],
      "execution_count": null,
      "outputs": []
    },
    {
      "cell_type": "code",
      "metadata": {
        "colab": {
          "base_uri": "https://localhost:8080/",
          "height": 232
        },
        "id": "bzhM_h4C4NEs",
        "outputId": "3b247185-f859-4971-821f-17d99e868fe4"
      },
      "source": [
        "#Get various attributes of our tensor\n",
        "print(\"Datatype of every element:\", rank_4_tensor.dtype)\n",
        "print(\"Number of dimension (rank):\", rank_4_tensor.ndim)\n",
        "print(\"Shape of tensor:\", rank_4_tensor.shape)\n",
        "print(\"Elements along the 0 axis:\", rank_4_tensor.shape[0])\n",
        "print(\"Elements along the last axis:\", rank_4_tensor.shape[-1]) #call -1 as last one = 4th element\n",
        "print(\"Total number of elements in our tensor:\", tf.size(rank_4_tensor).numpy()) #add .numpy() at the end of a tensor can change it to a numpy"
      ],
      "execution_count": 28,
      "outputs": [
        {
          "output_type": "error",
          "ename": "NameError",
          "evalue": "ignored",
          "traceback": [
            "\u001b[0;31m---------------------------------------------------------------------------\u001b[0m",
            "\u001b[0;31mNameError\u001b[0m                                 Traceback (most recent call last)",
            "\u001b[0;32m<ipython-input-28-5b5408258921>\u001b[0m in \u001b[0;36m<module>\u001b[0;34m()\u001b[0m\n\u001b[1;32m      1\u001b[0m \u001b[0;31m#Get various attributes of our tensor\u001b[0m\u001b[0;34m\u001b[0m\u001b[0;34m\u001b[0m\u001b[0;34m\u001b[0m\u001b[0m\n\u001b[0;32m----> 2\u001b[0;31m \u001b[0mprint\u001b[0m\u001b[0;34m(\u001b[0m\u001b[0;34m\"Datatype of every element:\"\u001b[0m\u001b[0;34m,\u001b[0m \u001b[0mrank_4_tensor\u001b[0m\u001b[0;34m.\u001b[0m\u001b[0mdtype\u001b[0m\u001b[0;34m)\u001b[0m\u001b[0;34m\u001b[0m\u001b[0;34m\u001b[0m\u001b[0m\n\u001b[0m\u001b[1;32m      3\u001b[0m \u001b[0mprint\u001b[0m\u001b[0;34m(\u001b[0m\u001b[0;34m\"Number of dimension (rank):\"\u001b[0m\u001b[0;34m,\u001b[0m \u001b[0mrank_4_tensor\u001b[0m\u001b[0;34m.\u001b[0m\u001b[0mndim\u001b[0m\u001b[0;34m)\u001b[0m\u001b[0;34m\u001b[0m\u001b[0;34m\u001b[0m\u001b[0m\n\u001b[1;32m      4\u001b[0m \u001b[0mprint\u001b[0m\u001b[0;34m(\u001b[0m\u001b[0;34m\"Shape of tensor:\"\u001b[0m\u001b[0;34m,\u001b[0m \u001b[0mrank_4_tensor\u001b[0m\u001b[0;34m.\u001b[0m\u001b[0mshape\u001b[0m\u001b[0;34m)\u001b[0m\u001b[0;34m\u001b[0m\u001b[0;34m\u001b[0m\u001b[0m\n\u001b[1;32m      5\u001b[0m \u001b[0mprint\u001b[0m\u001b[0;34m(\u001b[0m\u001b[0;34m\"Elements along the 0 axis:\"\u001b[0m\u001b[0;34m,\u001b[0m \u001b[0mrank_4_tensor\u001b[0m\u001b[0;34m.\u001b[0m\u001b[0mshape\u001b[0m\u001b[0;34m[\u001b[0m\u001b[0;36m0\u001b[0m\u001b[0;34m]\u001b[0m\u001b[0;34m)\u001b[0m\u001b[0;34m\u001b[0m\u001b[0;34m\u001b[0m\u001b[0m\n",
            "\u001b[0;31mNameError\u001b[0m: name 'rank_4_tensor' is not defined"
          ]
        }
      ]
    },
    {
      "cell_type": "markdown",
      "metadata": {
        "id": "ajnF0O-H6WBr"
      },
      "source": [
        "## Indexing tensors\n",
        "\n",
        "tensors can be indexed just like python lists."
      ]
    },
    {
      "cell_type": "code",
      "metadata": {
        "id": "QaOfNCwt7Hkm"
      },
      "source": [
        "some_list = [1, 2, 3, 4]\n",
        "some_list[:2]"
      ],
      "execution_count": null,
      "outputs": []
    },
    {
      "cell_type": "code",
      "metadata": {
        "colab": {
          "base_uri": "https://localhost:8080/",
          "height": 181
        },
        "id": "pqHpsz_C5n7K",
        "outputId": "efbc16aa-9d47-44a3-b6b6-a958222c705a"
      },
      "source": [
        "# Get the first 2 elements of each dimension\n",
        "rank_4_tensor[:2, :2, :2, :2]"
      ],
      "execution_count": 29,
      "outputs": [
        {
          "output_type": "error",
          "ename": "NameError",
          "evalue": "ignored",
          "traceback": [
            "\u001b[0;31m---------------------------------------------------------------------------\u001b[0m",
            "\u001b[0;31mNameError\u001b[0m                                 Traceback (most recent call last)",
            "\u001b[0;32m<ipython-input-29-5e0febe1105c>\u001b[0m in \u001b[0;36m<module>\u001b[0;34m()\u001b[0m\n\u001b[1;32m      1\u001b[0m \u001b[0;31m# Get the first 2 elements of each dimension\u001b[0m\u001b[0;34m\u001b[0m\u001b[0;34m\u001b[0m\u001b[0;34m\u001b[0m\u001b[0m\n\u001b[0;32m----> 2\u001b[0;31m \u001b[0mrank_4_tensor\u001b[0m\u001b[0;34m[\u001b[0m\u001b[0;34m:\u001b[0m\u001b[0;36m2\u001b[0m\u001b[0;34m,\u001b[0m \u001b[0;34m:\u001b[0m\u001b[0;36m2\u001b[0m\u001b[0;34m,\u001b[0m \u001b[0;34m:\u001b[0m\u001b[0;36m2\u001b[0m\u001b[0;34m,\u001b[0m \u001b[0;34m:\u001b[0m\u001b[0;36m2\u001b[0m\u001b[0;34m]\u001b[0m\u001b[0;34m\u001b[0m\u001b[0;34m\u001b[0m\u001b[0m\n\u001b[0m",
            "\u001b[0;31mNameError\u001b[0m: name 'rank_4_tensor' is not defined"
          ]
        }
      ]
    },
    {
      "cell_type": "code",
      "metadata": {
        "colab": {
          "base_uri": "https://localhost:8080/",
          "height": 164
        },
        "id": "DRobUABn7q26",
        "outputId": "7b50cdd8-f7dd-4a34-b506-0e0109b08b76"
      },
      "source": [
        "some_list[:1]"
      ],
      "execution_count": 30,
      "outputs": [
        {
          "output_type": "error",
          "ename": "NameError",
          "evalue": "ignored",
          "traceback": [
            "\u001b[0;31m---------------------------------------------------------------------------\u001b[0m",
            "\u001b[0;31mNameError\u001b[0m                                 Traceback (most recent call last)",
            "\u001b[0;32m<ipython-input-30-e3e3e8bb3cf2>\u001b[0m in \u001b[0;36m<module>\u001b[0;34m()\u001b[0m\n\u001b[0;32m----> 1\u001b[0;31m \u001b[0msome_list\u001b[0m\u001b[0;34m[\u001b[0m\u001b[0;34m:\u001b[0m\u001b[0;36m1\u001b[0m\u001b[0;34m]\u001b[0m\u001b[0;34m\u001b[0m\u001b[0;34m\u001b[0m\u001b[0m\n\u001b[0m",
            "\u001b[0;31mNameError\u001b[0m: name 'some_list' is not defined"
          ]
        }
      ]
    },
    {
      "cell_type": "code",
      "metadata": {
        "colab": {
          "base_uri": "https://localhost:8080/",
          "height": 181
        },
        "id": "_a1AvGQ17S6T",
        "outputId": "72d4dfdd-d019-4453-b08a-57223fd114f7"
      },
      "source": [
        "# Get the first element from each dimension from each index except for the final one\n",
        "rank_4_tensor[:1,:1,:1,:]"
      ],
      "execution_count": 31,
      "outputs": [
        {
          "output_type": "error",
          "ename": "NameError",
          "evalue": "ignored",
          "traceback": [
            "\u001b[0;31m---------------------------------------------------------------------------\u001b[0m",
            "\u001b[0;31mNameError\u001b[0m                                 Traceback (most recent call last)",
            "\u001b[0;32m<ipython-input-31-2551b1a9d4c2>\u001b[0m in \u001b[0;36m<module>\u001b[0;34m()\u001b[0m\n\u001b[1;32m      1\u001b[0m \u001b[0;31m# Get the first element from each dimension from each index except for the final one\u001b[0m\u001b[0;34m\u001b[0m\u001b[0;34m\u001b[0m\u001b[0;34m\u001b[0m\u001b[0m\n\u001b[0;32m----> 2\u001b[0;31m \u001b[0mrank_4_tensor\u001b[0m\u001b[0;34m[\u001b[0m\u001b[0;34m:\u001b[0m\u001b[0;36m1\u001b[0m\u001b[0;34m,\u001b[0m\u001b[0;34m:\u001b[0m\u001b[0;36m1\u001b[0m\u001b[0;34m,\u001b[0m\u001b[0;34m:\u001b[0m\u001b[0;36m1\u001b[0m\u001b[0;34m,\u001b[0m\u001b[0;34m:\u001b[0m\u001b[0;34m]\u001b[0m\u001b[0;34m\u001b[0m\u001b[0;34m\u001b[0m\u001b[0m\n\u001b[0m",
            "\u001b[0;31mNameError\u001b[0m: name 'rank_4_tensor' is not defined"
          ]
        }
      ]
    },
    {
      "cell_type": "code",
      "metadata": {
        "id": "LQyRl7oV75qN"
      },
      "source": [
        "# Get the first element from each dimension from each index except for the second final one\n",
        "rank_4_tensor[:1,:1,:,:1]"
      ],
      "execution_count": null,
      "outputs": []
    },
    {
      "cell_type": "code",
      "metadata": {
        "id": "U8XgQXmS8Dni"
      },
      "source": [
        "# Get the first element from each dimension from each index except for the second one and second last one\n",
        "rank_4_tensor[:1,:,:,:1]"
      ],
      "execution_count": null,
      "outputs": []
    },
    {
      "cell_type": "code",
      "metadata": {
        "id": "PtE6QfSq8T0Z"
      },
      "source": [
        "# Get the first element from each dimension from each index except for the first one\n",
        "rank_4_tensor[:,:1,:1,:1]"
      ],
      "execution_count": null,
      "outputs": []
    },
    {
      "cell_type": "code",
      "metadata": {
        "id": "23F4zN4A86-R"
      },
      "source": [
        "# Creat a rank 2 tensor (2 dimensions)\n",
        "rank_2_tensor = tf.constant([[1,2],\n",
        "                             [3,4]])\n",
        "rank_2_tensor, rank_2_tensor.ndim, rank_2_tensor.shape\n"
      ],
      "execution_count": null,
      "outputs": []
    },
    {
      "cell_type": "code",
      "metadata": {
        "colab": {
          "base_uri": "https://localhost:8080/",
          "height": 164
        },
        "id": "zYtFz0Il95xQ",
        "outputId": "083b8245-56a4-4bdb-f077-abe98f87f570"
      },
      "source": [
        "some_list, some_list[-1]"
      ],
      "execution_count": 32,
      "outputs": [
        {
          "output_type": "error",
          "ename": "NameError",
          "evalue": "ignored",
          "traceback": [
            "\u001b[0;31m---------------------------------------------------------------------------\u001b[0m",
            "\u001b[0;31mNameError\u001b[0m                                 Traceback (most recent call last)",
            "\u001b[0;32m<ipython-input-32-c3ba7f0a6df3>\u001b[0m in \u001b[0;36m<module>\u001b[0;34m()\u001b[0m\n\u001b[0;32m----> 1\u001b[0;31m \u001b[0msome_list\u001b[0m\u001b[0;34m,\u001b[0m \u001b[0msome_list\u001b[0m\u001b[0;34m[\u001b[0m\u001b[0;34m-\u001b[0m\u001b[0;36m1\u001b[0m\u001b[0;34m]\u001b[0m\u001b[0;34m\u001b[0m\u001b[0;34m\u001b[0m\u001b[0m\n\u001b[0m",
            "\u001b[0;31mNameError\u001b[0m: name 'some_list' is not defined"
          ]
        }
      ]
    },
    {
      "cell_type": "code",
      "metadata": {
        "id": "Lxkv0H1e9kh6"
      },
      "source": [
        "# Get the last element from each dimension rank 2\n",
        "rank_2_tensor[:, -1]"
      ],
      "execution_count": null,
      "outputs": []
    },
    {
      "cell_type": "code",
      "metadata": {
        "id": "V_CGYZe8-HLf"
      },
      "source": [
        "# Add in extra dimension to our rank 2 tensor\n",
        "rank_3_tensor = rank_2_tensor[..., tf.newaxis]\n",
        "rank_3_tensor"
      ],
      "execution_count": null,
      "outputs": []
    },
    {
      "cell_type": "code",
      "metadata": {
        "id": "opBgxDbv-gRG"
      },
      "source": [
        "# Alternative to tf.newaxis\n",
        "tf.expand_dims(rank_2_tensor, axis-1) #\"-1\" means expand the final axis"
      ],
      "execution_count": null,
      "outputs": []
    },
    {
      "cell_type": "code",
      "metadata": {
        "id": "lQpI3_F__ncs"
      },
      "source": [
        "tf.expand_dims(rank_2_tensor, axis = 0) # expand the 0-axis"
      ],
      "execution_count": null,
      "outputs": []
    },
    {
      "cell_type": "markdown",
      "metadata": {
        "id": "NgA-J6gKALe_"
      },
      "source": [
        "###Manipulating Tensors (tensor operions)\n",
        "** Basic Operations**\n",
        "\n",
        "+, -, *, /"
      ]
    },
    {
      "cell_type": "code",
      "metadata": {
        "id": "g-rxR6mr_6bU"
      },
      "source": [
        "# You can add values to a tensor using the addition operator\n",
        "tensor = tf.constant([[10, 7], [3, 4]])\n",
        "tensor + 10 #this should be equal to tf.math.add(tensor, 10)"
      ],
      "execution_count": null,
      "outputs": []
    },
    {
      "cell_type": "code",
      "metadata": {
        "id": "9_mySzYALMc8",
        "colab": {
          "base_uri": "https://localhost:8080/"
        },
        "outputId": "4cbbd9c6-9385-4af1-8352-0edba06d000e"
      },
      "source": [
        "#Original tensor is unchanged\n",
        "tensor"
      ],
      "execution_count": 33,
      "outputs": [
        {
          "output_type": "execute_result",
          "data": {
            "text/plain": [
              "<tf.Tensor: shape=(3, 2, 3), dtype=int32, numpy=\n",
              "array([[[ 1,  2,  3],\n",
              "        [ 4,  5,  6]],\n",
              "\n",
              "       [[ 6,  7,  8],\n",
              "        [10, 11, 12]],\n",
              "\n",
              "       [[12, 13, 14],\n",
              "        [15, 16, 17]]], dtype=int32)>"
            ]
          },
          "metadata": {
            "tags": []
          },
          "execution_count": 33
        }
      ]
    },
    {
      "cell_type": "code",
      "metadata": {
        "colab": {
          "base_uri": "https://localhost:8080/"
        },
        "id": "bhJHLU55Oj-p",
        "outputId": "2e6f77d8-3e92-4635-8432-97ddaf97f2e4"
      },
      "source": [
        "# Substration if you want\n",
        "tensor - 10"
      ],
      "execution_count": 34,
      "outputs": [
        {
          "output_type": "execute_result",
          "data": {
            "text/plain": [
              "<tf.Tensor: shape=(3, 2, 3), dtype=int32, numpy=\n",
              "array([[[-9, -8, -7],\n",
              "        [-6, -5, -4]],\n",
              "\n",
              "       [[-4, -3, -2],\n",
              "        [ 0,  1,  2]],\n",
              "\n",
              "       [[ 2,  3,  4],\n",
              "        [ 5,  6,  7]]], dtype=int32)>"
            ]
          },
          "metadata": {
            "tags": []
          },
          "execution_count": 34
        }
      ]
    },
    {
      "cell_type": "code",
      "metadata": {
        "colab": {
          "base_uri": "https://localhost:8080/"
        },
        "id": "UltC7nhlOn5j",
        "outputId": "9762b46b-bc77-49e3-da40-04d4ed87dea0"
      },
      "source": [
        "# We can use the tensorflow built-in function too\n",
        "tf.multiply(tensor, 10)"
      ],
      "execution_count": 35,
      "outputs": [
        {
          "output_type": "execute_result",
          "data": {
            "text/plain": [
              "<tf.Tensor: shape=(3, 2, 3), dtype=int32, numpy=\n",
              "array([[[ 10,  20,  30],\n",
              "        [ 40,  50,  60]],\n",
              "\n",
              "       [[ 60,  70,  80],\n",
              "        [100, 110, 120]],\n",
              "\n",
              "       [[120, 130, 140],\n",
              "        [150, 160, 170]]], dtype=int32)>"
            ]
          },
          "metadata": {
            "tags": []
          },
          "execution_count": 35
        }
      ]
    },
    {
      "cell_type": "markdown",
      "metadata": {
        "id": "0m0GU56mPYBx"
      },
      "source": [
        "**Matrix Multiplication**\n",
        "\n",
        "In machine learning, matrix muliplication is one of the most common tensor opearation.\n",
        "\n",
        "There are two rules our tensors (or matrices) need to fulfill if we are going to matrix multiply them:\n",
        "\n",
        "1. The inner dimensions must match\n",
        "2. The resulting matrix has the shape of the inner dimensions"
      ]
    },
    {
      "cell_type": "code",
      "metadata": {
        "colab": {
          "base_uri": "https://localhost:8080/",
          "height": 409
        },
        "id": "NYtSJDpaPCas",
        "outputId": "4ae4f122-2c36-4b5c-a052-64ffb3dab7a2"
      },
      "source": [
        "# Matrix mulipliction in tensorflow\n",
        "print (tensor)\n",
        "tf.matmul(tensor, tensor)"
      ],
      "execution_count": 36,
      "outputs": [
        {
          "output_type": "stream",
          "text": [
            "tf.Tensor(\n",
            "[[[ 1  2  3]\n",
            "  [ 4  5  6]]\n",
            "\n",
            " [[ 6  7  8]\n",
            "  [10 11 12]]\n",
            "\n",
            " [[12 13 14]\n",
            "  [15 16 17]]], shape=(3, 2, 3), dtype=int32)\n"
          ],
          "name": "stdout"
        },
        {
          "output_type": "error",
          "ename": "InvalidArgumentError",
          "evalue": "ignored",
          "traceback": [
            "\u001b[0;31m---------------------------------------------------------------------------\u001b[0m",
            "\u001b[0;31mInvalidArgumentError\u001b[0m                      Traceback (most recent call last)",
            "\u001b[0;32m<ipython-input-36-484f46d979f6>\u001b[0m in \u001b[0;36m<module>\u001b[0;34m()\u001b[0m\n\u001b[1;32m      1\u001b[0m \u001b[0;31m# Matrix mulipliction in tensorflow\u001b[0m\u001b[0;34m\u001b[0m\u001b[0;34m\u001b[0m\u001b[0;34m\u001b[0m\u001b[0m\n\u001b[1;32m      2\u001b[0m \u001b[0mprint\u001b[0m \u001b[0;34m(\u001b[0m\u001b[0mtensor\u001b[0m\u001b[0;34m)\u001b[0m\u001b[0;34m\u001b[0m\u001b[0;34m\u001b[0m\u001b[0m\n\u001b[0;32m----> 3\u001b[0;31m \u001b[0mtf\u001b[0m\u001b[0;34m.\u001b[0m\u001b[0mmatmul\u001b[0m\u001b[0;34m(\u001b[0m\u001b[0mtensor\u001b[0m\u001b[0;34m,\u001b[0m \u001b[0mtensor\u001b[0m\u001b[0;34m)\u001b[0m\u001b[0;34m\u001b[0m\u001b[0;34m\u001b[0m\u001b[0m\n\u001b[0m",
            "\u001b[0;32m/usr/local/lib/python3.7/dist-packages/tensorflow/python/util/dispatch.py\u001b[0m in \u001b[0;36mwrapper\u001b[0;34m(*args, **kwargs)\u001b[0m\n\u001b[1;32m    204\u001b[0m     \u001b[0;34m\"\"\"Call target, and fall back on dispatchers if there is a TypeError.\"\"\"\u001b[0m\u001b[0;34m\u001b[0m\u001b[0;34m\u001b[0m\u001b[0m\n\u001b[1;32m    205\u001b[0m     \u001b[0;32mtry\u001b[0m\u001b[0;34m:\u001b[0m\u001b[0;34m\u001b[0m\u001b[0;34m\u001b[0m\u001b[0m\n\u001b[0;32m--> 206\u001b[0;31m       \u001b[0;32mreturn\u001b[0m \u001b[0mtarget\u001b[0m\u001b[0;34m(\u001b[0m\u001b[0;34m*\u001b[0m\u001b[0margs\u001b[0m\u001b[0;34m,\u001b[0m \u001b[0;34m**\u001b[0m\u001b[0mkwargs\u001b[0m\u001b[0;34m)\u001b[0m\u001b[0;34m\u001b[0m\u001b[0;34m\u001b[0m\u001b[0m\n\u001b[0m\u001b[1;32m    207\u001b[0m     \u001b[0;32mexcept\u001b[0m \u001b[0;34m(\u001b[0m\u001b[0mTypeError\u001b[0m\u001b[0;34m,\u001b[0m \u001b[0mValueError\u001b[0m\u001b[0;34m)\u001b[0m\u001b[0;34m:\u001b[0m\u001b[0;34m\u001b[0m\u001b[0;34m\u001b[0m\u001b[0m\n\u001b[1;32m    208\u001b[0m       \u001b[0;31m# Note: convert_to_eager_tensor currently raises a ValueError, not a\u001b[0m\u001b[0;34m\u001b[0m\u001b[0;34m\u001b[0m\u001b[0;34m\u001b[0m\u001b[0m\n",
            "\u001b[0;32m/usr/local/lib/python3.7/dist-packages/tensorflow/python/ops/math_ops.py\u001b[0m in \u001b[0;36mmatmul\u001b[0;34m(a, b, transpose_a, transpose_b, adjoint_a, adjoint_b, a_is_sparse, b_is_sparse, name)\u001b[0m\n\u001b[1;32m   3450\u001b[0m         \u001b[0madjoint_b\u001b[0m \u001b[0;34m=\u001b[0m \u001b[0;32mTrue\u001b[0m\u001b[0;34m\u001b[0m\u001b[0;34m\u001b[0m\u001b[0m\n\u001b[1;32m   3451\u001b[0m       return gen_math_ops.batch_mat_mul_v2(\n\u001b[0;32m-> 3452\u001b[0;31m           a, b, adj_x=adjoint_a, adj_y=adjoint_b, name=name)\n\u001b[0m\u001b[1;32m   3453\u001b[0m \u001b[0;34m\u001b[0m\u001b[0m\n\u001b[1;32m   3454\u001b[0m     \u001b[0;31m# Neither matmul nor sparse_matmul support adjoint, so we conjugate\u001b[0m\u001b[0;34m\u001b[0m\u001b[0;34m\u001b[0m\u001b[0;34m\u001b[0m\u001b[0m\n",
            "\u001b[0;32m/usr/local/lib/python3.7/dist-packages/tensorflow/python/ops/gen_math_ops.py\u001b[0m in \u001b[0;36mbatch_mat_mul_v2\u001b[0;34m(x, y, adj_x, adj_y, name)\u001b[0m\n\u001b[1;32m   1568\u001b[0m       \u001b[0;32mreturn\u001b[0m \u001b[0m_result\u001b[0m\u001b[0;34m\u001b[0m\u001b[0;34m\u001b[0m\u001b[0m\n\u001b[1;32m   1569\u001b[0m     \u001b[0;32mexcept\u001b[0m \u001b[0m_core\u001b[0m\u001b[0;34m.\u001b[0m\u001b[0m_NotOkStatusException\u001b[0m \u001b[0;32mas\u001b[0m \u001b[0me\u001b[0m\u001b[0;34m:\u001b[0m\u001b[0;34m\u001b[0m\u001b[0;34m\u001b[0m\u001b[0m\n\u001b[0;32m-> 1570\u001b[0;31m       \u001b[0m_ops\u001b[0m\u001b[0;34m.\u001b[0m\u001b[0mraise_from_not_ok_status\u001b[0m\u001b[0;34m(\u001b[0m\u001b[0me\u001b[0m\u001b[0;34m,\u001b[0m \u001b[0mname\u001b[0m\u001b[0;34m)\u001b[0m\u001b[0;34m\u001b[0m\u001b[0;34m\u001b[0m\u001b[0m\n\u001b[0m\u001b[1;32m   1571\u001b[0m     \u001b[0;32mexcept\u001b[0m \u001b[0m_core\u001b[0m\u001b[0;34m.\u001b[0m\u001b[0m_FallbackException\u001b[0m\u001b[0;34m:\u001b[0m\u001b[0;34m\u001b[0m\u001b[0;34m\u001b[0m\u001b[0m\n\u001b[1;32m   1572\u001b[0m       \u001b[0;32mpass\u001b[0m\u001b[0;34m\u001b[0m\u001b[0;34m\u001b[0m\u001b[0m\n",
            "\u001b[0;32m/usr/local/lib/python3.7/dist-packages/tensorflow/python/framework/ops.py\u001b[0m in \u001b[0;36mraise_from_not_ok_status\u001b[0;34m(e, name)\u001b[0m\n\u001b[1;32m   6895\u001b[0m   \u001b[0mmessage\u001b[0m \u001b[0;34m=\u001b[0m \u001b[0me\u001b[0m\u001b[0;34m.\u001b[0m\u001b[0mmessage\u001b[0m \u001b[0;34m+\u001b[0m \u001b[0;34m(\u001b[0m\u001b[0;34m\" name: \"\u001b[0m \u001b[0;34m+\u001b[0m \u001b[0mname\u001b[0m \u001b[0;32mif\u001b[0m \u001b[0mname\u001b[0m \u001b[0;32mis\u001b[0m \u001b[0;32mnot\u001b[0m \u001b[0;32mNone\u001b[0m \u001b[0;32melse\u001b[0m \u001b[0;34m\"\"\u001b[0m\u001b[0;34m)\u001b[0m\u001b[0;34m\u001b[0m\u001b[0;34m\u001b[0m\u001b[0m\n\u001b[1;32m   6896\u001b[0m   \u001b[0;31m# pylint: disable=protected-access\u001b[0m\u001b[0;34m\u001b[0m\u001b[0;34m\u001b[0m\u001b[0;34m\u001b[0m\u001b[0m\n\u001b[0;32m-> 6897\u001b[0;31m   \u001b[0msix\u001b[0m\u001b[0;34m.\u001b[0m\u001b[0mraise_from\u001b[0m\u001b[0;34m(\u001b[0m\u001b[0mcore\u001b[0m\u001b[0;34m.\u001b[0m\u001b[0m_status_to_exception\u001b[0m\u001b[0;34m(\u001b[0m\u001b[0me\u001b[0m\u001b[0;34m.\u001b[0m\u001b[0mcode\u001b[0m\u001b[0;34m,\u001b[0m \u001b[0mmessage\u001b[0m\u001b[0;34m)\u001b[0m\u001b[0;34m,\u001b[0m \u001b[0;32mNone\u001b[0m\u001b[0;34m)\u001b[0m\u001b[0;34m\u001b[0m\u001b[0;34m\u001b[0m\u001b[0m\n\u001b[0m\u001b[1;32m   6898\u001b[0m   \u001b[0;31m# pylint: enable=protected-access\u001b[0m\u001b[0;34m\u001b[0m\u001b[0;34m\u001b[0m\u001b[0;34m\u001b[0m\u001b[0m\n\u001b[1;32m   6899\u001b[0m \u001b[0;34m\u001b[0m\u001b[0m\n",
            "\u001b[0;32m/usr/local/lib/python3.7/dist-packages/six.py\u001b[0m in \u001b[0;36mraise_from\u001b[0;34m(value, from_value)\u001b[0m\n",
            "\u001b[0;31mInvalidArgumentError\u001b[0m: In[0] mismatch In[1] shape: 3 vs. 2: [3,2,3] [3,2,3] 0 0 [Op:BatchMatMulV2]"
          ]
        }
      ]
    },
    {
      "cell_type": "code",
      "metadata": {
        "id": "PT26K6TlREK-"
      },
      "source": [
        "tensor, tensor"
      ],
      "execution_count": null,
      "outputs": []
    },
    {
      "cell_type": "code",
      "metadata": {
        "id": "pCC2jF8XQ1z1"
      },
      "source": [
        "tensor * tensor"
      ],
      "execution_count": null,
      "outputs": []
    },
    {
      "cell_type": "code",
      "metadata": {
        "id": "qm0uMgHkRAg7"
      },
      "source": [
        "#Matrix mutliplication  with Python operation \"@\"\n",
        "tensor @ tensor"
      ],
      "execution_count": null,
      "outputs": []
    },
    {
      "cell_type": "code",
      "metadata": {
        "colab": {
          "base_uri": "https://localhost:8080/"
        },
        "id": "ZhqCWUkhRbXp",
        "outputId": "5f3a4ccd-c88a-46d4-e291-bd0a15115031"
      },
      "source": [
        "tensor.shape"
      ],
      "execution_count": 37,
      "outputs": [
        {
          "output_type": "execute_result",
          "data": {
            "text/plain": [
              "TensorShape([3, 2, 3])"
            ]
          },
          "metadata": {
            "tags": []
          },
          "execution_count": 37
        }
      ]
    },
    {
      "cell_type": "code",
      "metadata": {
        "id": "1VslRsvYRgL5"
      },
      "source": [
        "#Create a tensor (3, 2) tensor\n",
        "X = tf.constant ([[1, 2],\n",
        "                  [3, 4],\n",
        "                  [5, 6]])\n",
        "#Create another (3, 2) tensor\n",
        "Y = tf.constant([[7, 8],\n",
        "                  [9, 10],\n",
        "                  [11, 12]])"
      ],
      "execution_count": 38,
      "outputs": []
    },
    {
      "cell_type": "code",
      "metadata": {
        "colab": {
          "base_uri": "https://localhost:8080/",
          "height": 239
        },
        "id": "Dq6ndxvBRqFI",
        "outputId": "53f9ed00-d8ae-4f95-8b28-ce4d2e3978de"
      },
      "source": [
        "#Try to matrix multiply tensors of same shape\n",
        "tf.matmul(X, Y)"
      ],
      "execution_count": 39,
      "outputs": [
        {
          "output_type": "error",
          "ename": "InvalidArgumentError",
          "evalue": "ignored",
          "traceback": [
            "\u001b[0;31m---------------------------------------------------------------------------\u001b[0m",
            "\u001b[0;31mInvalidArgumentError\u001b[0m                      Traceback (most recent call last)",
            "\u001b[0;32m<ipython-input-39-a2d85e513d02>\u001b[0m in \u001b[0;36m<module>\u001b[0;34m()\u001b[0m\n\u001b[1;32m      1\u001b[0m \u001b[0;31m#Try to matrix multiply tensors of same shape\u001b[0m\u001b[0;34m\u001b[0m\u001b[0;34m\u001b[0m\u001b[0;34m\u001b[0m\u001b[0m\n\u001b[0;32m----> 2\u001b[0;31m \u001b[0mtf\u001b[0m\u001b[0;34m.\u001b[0m\u001b[0mmatmul\u001b[0m\u001b[0;34m(\u001b[0m\u001b[0mX\u001b[0m\u001b[0;34m,\u001b[0m \u001b[0mY\u001b[0m\u001b[0;34m)\u001b[0m\u001b[0;34m\u001b[0m\u001b[0;34m\u001b[0m\u001b[0m\n\u001b[0m",
            "\u001b[0;32m/usr/local/lib/python3.7/dist-packages/tensorflow/python/util/dispatch.py\u001b[0m in \u001b[0;36mwrapper\u001b[0;34m(*args, **kwargs)\u001b[0m\n\u001b[1;32m    204\u001b[0m     \u001b[0;34m\"\"\"Call target, and fall back on dispatchers if there is a TypeError.\"\"\"\u001b[0m\u001b[0;34m\u001b[0m\u001b[0;34m\u001b[0m\u001b[0m\n\u001b[1;32m    205\u001b[0m     \u001b[0;32mtry\u001b[0m\u001b[0;34m:\u001b[0m\u001b[0;34m\u001b[0m\u001b[0;34m\u001b[0m\u001b[0m\n\u001b[0;32m--> 206\u001b[0;31m       \u001b[0;32mreturn\u001b[0m \u001b[0mtarget\u001b[0m\u001b[0;34m(\u001b[0m\u001b[0;34m*\u001b[0m\u001b[0margs\u001b[0m\u001b[0;34m,\u001b[0m \u001b[0;34m**\u001b[0m\u001b[0mkwargs\u001b[0m\u001b[0;34m)\u001b[0m\u001b[0;34m\u001b[0m\u001b[0;34m\u001b[0m\u001b[0m\n\u001b[0m\u001b[1;32m    207\u001b[0m     \u001b[0;32mexcept\u001b[0m \u001b[0;34m(\u001b[0m\u001b[0mTypeError\u001b[0m\u001b[0;34m,\u001b[0m \u001b[0mValueError\u001b[0m\u001b[0;34m)\u001b[0m\u001b[0;34m:\u001b[0m\u001b[0;34m\u001b[0m\u001b[0;34m\u001b[0m\u001b[0m\n\u001b[1;32m    208\u001b[0m       \u001b[0;31m# Note: convert_to_eager_tensor currently raises a ValueError, not a\u001b[0m\u001b[0;34m\u001b[0m\u001b[0;34m\u001b[0m\u001b[0;34m\u001b[0m\u001b[0m\n",
            "\u001b[0;32m/usr/local/lib/python3.7/dist-packages/tensorflow/python/ops/math_ops.py\u001b[0m in \u001b[0;36mmatmul\u001b[0;34m(a, b, transpose_a, transpose_b, adjoint_a, adjoint_b, a_is_sparse, b_is_sparse, name)\u001b[0m\n\u001b[1;32m   3488\u001b[0m     \u001b[0;32melse\u001b[0m\u001b[0;34m:\u001b[0m\u001b[0;34m\u001b[0m\u001b[0;34m\u001b[0m\u001b[0m\n\u001b[1;32m   3489\u001b[0m       return gen_math_ops.mat_mul(\n\u001b[0;32m-> 3490\u001b[0;31m           a, b, transpose_a=transpose_a, transpose_b=transpose_b, name=name)\n\u001b[0m\u001b[1;32m   3491\u001b[0m \u001b[0;34m\u001b[0m\u001b[0m\n\u001b[1;32m   3492\u001b[0m \u001b[0;34m\u001b[0m\u001b[0m\n",
            "\u001b[0;32m/usr/local/lib/python3.7/dist-packages/tensorflow/python/ops/gen_math_ops.py\u001b[0m in \u001b[0;36mmat_mul\u001b[0;34m(a, b, transpose_a, transpose_b, name)\u001b[0m\n\u001b[1;32m   5698\u001b[0m       \u001b[0;32mreturn\u001b[0m \u001b[0m_result\u001b[0m\u001b[0;34m\u001b[0m\u001b[0;34m\u001b[0m\u001b[0m\n\u001b[1;32m   5699\u001b[0m     \u001b[0;32mexcept\u001b[0m \u001b[0m_core\u001b[0m\u001b[0;34m.\u001b[0m\u001b[0m_NotOkStatusException\u001b[0m \u001b[0;32mas\u001b[0m \u001b[0me\u001b[0m\u001b[0;34m:\u001b[0m\u001b[0;34m\u001b[0m\u001b[0;34m\u001b[0m\u001b[0m\n\u001b[0;32m-> 5700\u001b[0;31m       \u001b[0m_ops\u001b[0m\u001b[0;34m.\u001b[0m\u001b[0mraise_from_not_ok_status\u001b[0m\u001b[0;34m(\u001b[0m\u001b[0me\u001b[0m\u001b[0;34m,\u001b[0m \u001b[0mname\u001b[0m\u001b[0;34m)\u001b[0m\u001b[0;34m\u001b[0m\u001b[0;34m\u001b[0m\u001b[0m\n\u001b[0m\u001b[1;32m   5701\u001b[0m     \u001b[0;32mexcept\u001b[0m \u001b[0m_core\u001b[0m\u001b[0;34m.\u001b[0m\u001b[0m_FallbackException\u001b[0m\u001b[0;34m:\u001b[0m\u001b[0;34m\u001b[0m\u001b[0;34m\u001b[0m\u001b[0m\n\u001b[1;32m   5702\u001b[0m       \u001b[0;32mpass\u001b[0m\u001b[0;34m\u001b[0m\u001b[0;34m\u001b[0m\u001b[0m\n",
            "\u001b[0;32m/usr/local/lib/python3.7/dist-packages/tensorflow/python/framework/ops.py\u001b[0m in \u001b[0;36mraise_from_not_ok_status\u001b[0;34m(e, name)\u001b[0m\n\u001b[1;32m   6895\u001b[0m   \u001b[0mmessage\u001b[0m \u001b[0;34m=\u001b[0m \u001b[0me\u001b[0m\u001b[0;34m.\u001b[0m\u001b[0mmessage\u001b[0m \u001b[0;34m+\u001b[0m \u001b[0;34m(\u001b[0m\u001b[0;34m\" name: \"\u001b[0m \u001b[0;34m+\u001b[0m \u001b[0mname\u001b[0m \u001b[0;32mif\u001b[0m \u001b[0mname\u001b[0m \u001b[0;32mis\u001b[0m \u001b[0;32mnot\u001b[0m \u001b[0;32mNone\u001b[0m \u001b[0;32melse\u001b[0m \u001b[0;34m\"\"\u001b[0m\u001b[0;34m)\u001b[0m\u001b[0;34m\u001b[0m\u001b[0;34m\u001b[0m\u001b[0m\n\u001b[1;32m   6896\u001b[0m   \u001b[0;31m# pylint: disable=protected-access\u001b[0m\u001b[0;34m\u001b[0m\u001b[0;34m\u001b[0m\u001b[0;34m\u001b[0m\u001b[0m\n\u001b[0;32m-> 6897\u001b[0;31m   \u001b[0msix\u001b[0m\u001b[0;34m.\u001b[0m\u001b[0mraise_from\u001b[0m\u001b[0;34m(\u001b[0m\u001b[0mcore\u001b[0m\u001b[0;34m.\u001b[0m\u001b[0m_status_to_exception\u001b[0m\u001b[0;34m(\u001b[0m\u001b[0me\u001b[0m\u001b[0;34m.\u001b[0m\u001b[0mcode\u001b[0m\u001b[0;34m,\u001b[0m \u001b[0mmessage\u001b[0m\u001b[0;34m)\u001b[0m\u001b[0;34m,\u001b[0m \u001b[0;32mNone\u001b[0m\u001b[0;34m)\u001b[0m\u001b[0;34m\u001b[0m\u001b[0;34m\u001b[0m\u001b[0m\n\u001b[0m\u001b[1;32m   6898\u001b[0m   \u001b[0;31m# pylint: enable=protected-access\u001b[0m\u001b[0;34m\u001b[0m\u001b[0;34m\u001b[0m\u001b[0;34m\u001b[0m\u001b[0m\n\u001b[1;32m   6899\u001b[0m \u001b[0;34m\u001b[0m\u001b[0m\n",
            "\u001b[0;32m/usr/local/lib/python3.7/dist-packages/six.py\u001b[0m in \u001b[0;36mraise_from\u001b[0;34m(value, from_value)\u001b[0m\n",
            "\u001b[0;31mInvalidArgumentError\u001b[0m: In[0] mismatch In[1] shape: 2 vs. 3: [3,2] [3,2] 0 0 [Op:MatMul]"
          ]
        }
      ]
    },
    {
      "cell_type": "markdown",
      "metadata": {
        "id": "92v6DguISonE"
      },
      "source": [
        "**Resource:** Info and example of matrix multiplication: https://www.mathsisfun.com/algebra/matrix-multiplying.html"
      ]
    },
    {
      "cell_type": "code",
      "metadata": {
        "colab": {
          "base_uri": "https://localhost:8080/",
          "height": 290
        },
        "id": "s38xtsBPSbIV",
        "outputId": "f956a7e8-7b24-4baf-8e49-e7f2681acb36"
      },
      "source": [
        "tf.linalg.inv(Y, adjoint=False)"
      ],
      "execution_count": 40,
      "outputs": [
        {
          "output_type": "error",
          "ename": "InvalidArgumentError",
          "evalue": "ignored",
          "traceback": [
            "\u001b[0;31m---------------------------------------------------------------------------\u001b[0m",
            "\u001b[0;31mInvalidArgumentError\u001b[0m                      Traceback (most recent call last)",
            "\u001b[0;32m<ipython-input-40-2ac5a3893e2b>\u001b[0m in \u001b[0;36m<module>\u001b[0;34m()\u001b[0m\n\u001b[0;32m----> 1\u001b[0;31m \u001b[0mtf\u001b[0m\u001b[0;34m.\u001b[0m\u001b[0mlinalg\u001b[0m\u001b[0;34m.\u001b[0m\u001b[0minv\u001b[0m\u001b[0;34m(\u001b[0m\u001b[0mY\u001b[0m\u001b[0;34m,\u001b[0m \u001b[0madjoint\u001b[0m\u001b[0;34m=\u001b[0m\u001b[0;32mFalse\u001b[0m\u001b[0;34m)\u001b[0m\u001b[0;34m\u001b[0m\u001b[0;34m\u001b[0m\u001b[0m\n\u001b[0m",
            "\u001b[0;32m/usr/local/lib/python3.7/dist-packages/tensorflow/python/ops/gen_linalg_ops.py\u001b[0m in \u001b[0;36mmatrix_inverse\u001b[0;34m(input, adjoint, name)\u001b[0m\n\u001b[1;32m   1470\u001b[0m       \u001b[0;32mreturn\u001b[0m \u001b[0m_result\u001b[0m\u001b[0;34m\u001b[0m\u001b[0;34m\u001b[0m\u001b[0m\n\u001b[1;32m   1471\u001b[0m     \u001b[0;32mexcept\u001b[0m \u001b[0m_core\u001b[0m\u001b[0;34m.\u001b[0m\u001b[0m_NotOkStatusException\u001b[0m \u001b[0;32mas\u001b[0m \u001b[0me\u001b[0m\u001b[0;34m:\u001b[0m\u001b[0;34m\u001b[0m\u001b[0;34m\u001b[0m\u001b[0m\n\u001b[0;32m-> 1472\u001b[0;31m       \u001b[0m_ops\u001b[0m\u001b[0;34m.\u001b[0m\u001b[0mraise_from_not_ok_status\u001b[0m\u001b[0;34m(\u001b[0m\u001b[0me\u001b[0m\u001b[0;34m,\u001b[0m \u001b[0mname\u001b[0m\u001b[0;34m)\u001b[0m\u001b[0;34m\u001b[0m\u001b[0;34m\u001b[0m\u001b[0m\n\u001b[0m\u001b[1;32m   1473\u001b[0m     \u001b[0;32mexcept\u001b[0m \u001b[0m_core\u001b[0m\u001b[0;34m.\u001b[0m\u001b[0m_FallbackException\u001b[0m\u001b[0;34m:\u001b[0m\u001b[0;34m\u001b[0m\u001b[0;34m\u001b[0m\u001b[0m\n\u001b[1;32m   1474\u001b[0m       \u001b[0;32mpass\u001b[0m\u001b[0;34m\u001b[0m\u001b[0;34m\u001b[0m\u001b[0m\n",
            "\u001b[0;32m/usr/local/lib/python3.7/dist-packages/tensorflow/python/framework/ops.py\u001b[0m in \u001b[0;36mraise_from_not_ok_status\u001b[0;34m(e, name)\u001b[0m\n\u001b[1;32m   6895\u001b[0m   \u001b[0mmessage\u001b[0m \u001b[0;34m=\u001b[0m \u001b[0me\u001b[0m\u001b[0;34m.\u001b[0m\u001b[0mmessage\u001b[0m \u001b[0;34m+\u001b[0m \u001b[0;34m(\u001b[0m\u001b[0;34m\" name: \"\u001b[0m \u001b[0;34m+\u001b[0m \u001b[0mname\u001b[0m \u001b[0;32mif\u001b[0m \u001b[0mname\u001b[0m \u001b[0;32mis\u001b[0m \u001b[0;32mnot\u001b[0m \u001b[0;32mNone\u001b[0m \u001b[0;32melse\u001b[0m \u001b[0;34m\"\"\u001b[0m\u001b[0;34m)\u001b[0m\u001b[0;34m\u001b[0m\u001b[0;34m\u001b[0m\u001b[0m\n\u001b[1;32m   6896\u001b[0m   \u001b[0;31m# pylint: disable=protected-access\u001b[0m\u001b[0;34m\u001b[0m\u001b[0;34m\u001b[0m\u001b[0;34m\u001b[0m\u001b[0m\n\u001b[0;32m-> 6897\u001b[0;31m   \u001b[0msix\u001b[0m\u001b[0;34m.\u001b[0m\u001b[0mraise_from\u001b[0m\u001b[0;34m(\u001b[0m\u001b[0mcore\u001b[0m\u001b[0;34m.\u001b[0m\u001b[0m_status_to_exception\u001b[0m\u001b[0;34m(\u001b[0m\u001b[0me\u001b[0m\u001b[0;34m.\u001b[0m\u001b[0mcode\u001b[0m\u001b[0;34m,\u001b[0m \u001b[0mmessage\u001b[0m\u001b[0;34m)\u001b[0m\u001b[0;34m,\u001b[0m \u001b[0;32mNone\u001b[0m\u001b[0;34m)\u001b[0m\u001b[0;34m\u001b[0m\u001b[0;34m\u001b[0m\u001b[0m\n\u001b[0m\u001b[1;32m   6898\u001b[0m   \u001b[0;31m# pylint: enable=protected-access\u001b[0m\u001b[0;34m\u001b[0m\u001b[0;34m\u001b[0m\u001b[0;34m\u001b[0m\u001b[0m\n\u001b[1;32m   6899\u001b[0m \u001b[0;34m\u001b[0m\u001b[0m\n",
            "\u001b[0;32m/usr/local/lib/python3.7/dist-packages/six.py\u001b[0m in \u001b[0;36mraise_from\u001b[0;34m(value, from_value)\u001b[0m\n",
            "\u001b[0;31mInvalidArgumentError\u001b[0m: Value for attr 'T' of int32 is not in the list of allowed values: double, float, half, complex64, complex128\n\t; NodeDef: {{node MatrixInverse}}; Op<name=MatrixInverse; signature=input:T -> output:T; attr=adjoint:bool,default=false; attr=T:type,allowed=[DT_DOUBLE, DT_FLOAT, DT_HALF, DT_COMPLEX64, DT_COMPLEX128]> [Op:MatrixInverse]"
          ]
        }
      ]
    },
    {
      "cell_type": "code",
      "metadata": {
        "colab": {
          "base_uri": "https://localhost:8080/"
        },
        "id": "2w5iOGlhUtjF",
        "outputId": "2c9c9397-2d14-4431-f956-cc726209418b"
      },
      "source": [
        "# Let's change the shape of Y\n",
        "tf.reshape(Y, shape=(2, 3))"
      ],
      "execution_count": 41,
      "outputs": [
        {
          "output_type": "execute_result",
          "data": {
            "text/plain": [
              "<tf.Tensor: shape=(2, 3), dtype=int32, numpy=\n",
              "array([[ 7,  8,  9],\n",
              "       [10, 11, 12]], dtype=int32)>"
            ]
          },
          "metadata": {
            "tags": []
          },
          "execution_count": 41
        }
      ]
    },
    {
      "cell_type": "code",
      "metadata": {
        "colab": {
          "base_uri": "https://localhost:8080/"
        },
        "id": "5jav9HIUWsm7",
        "outputId": "9687dae4-b5b2-4208-b0e6-1f959afb931c"
      },
      "source": [
        "X.shape, tf.reshape(Y, shape=(2, 3)).shape"
      ],
      "execution_count": 42,
      "outputs": [
        {
          "output_type": "execute_result",
          "data": {
            "text/plain": [
              "(TensorShape([3, 2]), TensorShape([2, 3]))"
            ]
          },
          "metadata": {
            "tags": []
          },
          "execution_count": 42
        }
      ]
    },
    {
      "cell_type": "code",
      "metadata": {
        "colab": {
          "base_uri": "https://localhost:8080/"
        },
        "id": "z9VsADJMV9is",
        "outputId": "c1626f66-e327-4f29-9756-9ae0eb8455ff"
      },
      "source": [
        "# Try to matrix multiply X by reshaped Y\n",
        "tf.matmul(X, tf.reshape(Y, shape=(2, 3)))"
      ],
      "execution_count": 43,
      "outputs": [
        {
          "output_type": "execute_result",
          "data": {
            "text/plain": [
              "<tf.Tensor: shape=(3, 3), dtype=int32, numpy=\n",
              "array([[ 27,  30,  33],\n",
              "       [ 61,  68,  75],\n",
              "       [ 95, 106, 117]], dtype=int32)>"
            ]
          },
          "metadata": {
            "tags": []
          },
          "execution_count": 43
        }
      ]
    },
    {
      "cell_type": "code",
      "metadata": {
        "colab": {
          "base_uri": "https://localhost:8080/"
        },
        "id": "Ra72061iXRyF",
        "outputId": "73cd8ecd-1707-4f4c-8076-ea4ce21f3a78"
      },
      "source": [
        "# Try to matrix multiply reshaped X by Y\n",
        "tf.matmul( tf.reshape(X, shape=(2, 3)), Y)"
      ],
      "execution_count": 44,
      "outputs": [
        {
          "output_type": "execute_result",
          "data": {
            "text/plain": [
              "<tf.Tensor: shape=(2, 2), dtype=int32, numpy=\n",
              "array([[ 58,  64],\n",
              "       [139, 154]], dtype=int32)>"
            ]
          },
          "metadata": {
            "tags": []
          },
          "execution_count": 44
        }
      ]
    },
    {
      "cell_type": "code",
      "metadata": {
        "colab": {
          "base_uri": "https://localhost:8080/"
        },
        "id": "ch9qszwqXBeK",
        "outputId": "a3a73f2a-c596-49bc-92c9-7421bfaaaa58"
      },
      "source": [
        "X @ tf.reshape(Y, shape=(2, 3))"
      ],
      "execution_count": 45,
      "outputs": [
        {
          "output_type": "execute_result",
          "data": {
            "text/plain": [
              "<tf.Tensor: shape=(3, 3), dtype=int32, numpy=\n",
              "array([[ 27,  30,  33],\n",
              "       [ 61,  68,  75],\n",
              "       [ 95, 106, 117]], dtype=int32)>"
            ]
          },
          "metadata": {
            "tags": []
          },
          "execution_count": 45
        }
      ]
    },
    {
      "cell_type": "code",
      "metadata": {
        "colab": {
          "base_uri": "https://localhost:8080/"
        },
        "id": "y6H1fXWGX6e8",
        "outputId": "9a2dcab4-778e-43be-e3bd-5f032af53e69"
      },
      "source": [
        "# Can do teh same with transpose\n",
        "X, tf.transpose(X), tf.reshape(X, shape=(2, 3))"
      ],
      "execution_count": 46,
      "outputs": [
        {
          "output_type": "execute_result",
          "data": {
            "text/plain": [
              "(<tf.Tensor: shape=(3, 2), dtype=int32, numpy=\n",
              " array([[1, 2],\n",
              "        [3, 4],\n",
              "        [5, 6]], dtype=int32)>, <tf.Tensor: shape=(2, 3), dtype=int32, numpy=\n",
              " array([[1, 3, 5],\n",
              "        [2, 4, 6]], dtype=int32)>, <tf.Tensor: shape=(2, 3), dtype=int32, numpy=\n",
              " array([[1, 2, 3],\n",
              "        [4, 5, 6]], dtype=int32)>)"
            ]
          },
          "metadata": {
            "tags": []
          },
          "execution_count": 46
        }
      ]
    },
    {
      "cell_type": "code",
      "metadata": {
        "colab": {
          "base_uri": "https://localhost:8080/"
        },
        "id": "8jmDtwgXYWhz",
        "outputId": "9c460a0e-f7e2-42bf-c81b-2abbb3bed08a"
      },
      "source": [
        "# Try matrix multiplication with transpose rather than reshape\n",
        "tf.matmul(tf.transpose(X), Y), tf.matmul(tf.reshape(X, shape=(2, 3)), Y)"
      ],
      "execution_count": 47,
      "outputs": [
        {
          "output_type": "execute_result",
          "data": {
            "text/plain": [
              "(<tf.Tensor: shape=(2, 2), dtype=int32, numpy=\n",
              " array([[ 89,  98],\n",
              "        [116, 128]], dtype=int32)>,\n",
              " <tf.Tensor: shape=(2, 2), dtype=int32, numpy=\n",
              " array([[ 58,  64],\n",
              "        [139, 154]], dtype=int32)>)"
            ]
          },
          "metadata": {
            "tags": []
          },
          "execution_count": 47
        }
      ]
    },
    {
      "cell_type": "markdown",
      "metadata": {
        "id": "KOB5I0s6WWc5"
      },
      "source": [
        "Resources: Info and examle of matrix multiplication: https://www.mathsisfun.com/algebra/matrix-multiplying.html"
      ]
    },
    {
      "cell_type": "markdown",
      "metadata": {
        "id": "9VzeZF8eZn29"
      },
      "source": [
        "** The dot product**\n",
        "\n",
        "\n",
        "Matrix Multiplication is also referred to as the dot prodcut.\n",
        "\n",
        "You can perform matrix multiplication using:\n",
        "\n",
        "\n",
        "\n",
        "*   `tf.matmul()`\n",
        "*   `tf.tensordot()`\n",
        "*   `@`\n",
        "\n",
        "\n",
        "```\n",
        "# This is formatted as code\n",
        "```\n",
        "\n",
        "\n",
        "\n"
      ]
    },
    {
      "cell_type": "code",
      "metadata": {
        "colab": {
          "base_uri": "https://localhost:8080/"
        },
        "id": "OLip4V1gbAM7",
        "outputId": "29349cab-d1a9-4ac2-a655-7cf16daeffdd"
      },
      "source": [
        "X, Y"
      ],
      "execution_count": 48,
      "outputs": [
        {
          "output_type": "execute_result",
          "data": {
            "text/plain": [
              "(<tf.Tensor: shape=(3, 2), dtype=int32, numpy=\n",
              " array([[1, 2],\n",
              "        [3, 4],\n",
              "        [5, 6]], dtype=int32)>, <tf.Tensor: shape=(3, 2), dtype=int32, numpy=\n",
              " array([[ 7,  8],\n",
              "        [ 9, 10],\n",
              "        [11, 12]], dtype=int32)>)"
            ]
          },
          "metadata": {
            "tags": []
          },
          "execution_count": 48
        }
      ]
    },
    {
      "cell_type": "code",
      "metadata": {
        "colab": {
          "base_uri": "https://localhost:8080/"
        },
        "id": "uA8i5KaiWSw_",
        "outputId": "428d0bcf-72c4-4e93-8c6b-01e77182a91a"
      },
      "source": [
        "# Perform the dot product on X and Y (requires X or Y to be transposed)\n",
        "tf.tensordot(tf.transpose(X), Y, axes=1)"
      ],
      "execution_count": 49,
      "outputs": [
        {
          "output_type": "execute_result",
          "data": {
            "text/plain": [
              "<tf.Tensor: shape=(2, 2), dtype=int32, numpy=\n",
              "array([[ 89,  98],\n",
              "       [116, 128]], dtype=int32)>"
            ]
          },
          "metadata": {
            "tags": []
          },
          "execution_count": 49
        }
      ]
    },
    {
      "cell_type": "code",
      "metadata": {
        "colab": {
          "base_uri": "https://localhost:8080/"
        },
        "id": "Z0eaFCCfaRuu",
        "outputId": "591ade95-53a2-4841-ab7f-5b4763de51ae"
      },
      "source": [
        "# Perform matrix multiplication between X and Y (transposed)\n",
        "tf.matmul(X, tf.transpose(Y))"
      ],
      "execution_count": 50,
      "outputs": [
        {
          "output_type": "execute_result",
          "data": {
            "text/plain": [
              "<tf.Tensor: shape=(3, 3), dtype=int32, numpy=\n",
              "array([[ 23,  29,  35],\n",
              "       [ 53,  67,  81],\n",
              "       [ 83, 105, 127]], dtype=int32)>"
            ]
          },
          "metadata": {
            "tags": []
          },
          "execution_count": 50
        }
      ]
    },
    {
      "cell_type": "code",
      "metadata": {
        "colab": {
          "base_uri": "https://localhost:8080/"
        },
        "id": "nbKO7PZIbXde",
        "outputId": "ed0912aa-5e44-4f14-93d2-538959fa61fc"
      },
      "source": [
        "# Perform matrix multiplication between X and Y (reshaped)\n",
        "tf.matmul(X, tf.reshape(Y, shape=(2, 3)))"
      ],
      "execution_count": 51,
      "outputs": [
        {
          "output_type": "execute_result",
          "data": {
            "text/plain": [
              "<tf.Tensor: shape=(3, 3), dtype=int32, numpy=\n",
              "array([[ 27,  30,  33],\n",
              "       [ 61,  68,  75],\n",
              "       [ 95, 106, 117]], dtype=int32)>"
            ]
          },
          "metadata": {
            "tags": []
          },
          "execution_count": 51
        }
      ]
    },
    {
      "cell_type": "code",
      "metadata": {
        "colab": {
          "base_uri": "https://localhost:8080/"
        },
        "id": "pjurFgxibl8U",
        "outputId": "198871c6-0260-4be4-a008-e489bec64555"
      },
      "source": [
        "# Check the value of Y, reshape Y and transposed Y\n",
        "\n",
        "print(\"Normal Y:\")\n",
        "print(Y, \"\\n\") #\"\\n\" is for newline\n",
        "\n",
        "print(\"Y reshaped to (2, 3): \")\n",
        "print(tf.reshape(Y, shape=(2, 3)), \"\\n\")\n",
        "\n",
        "print(\"Y reshaped to (2, 3): \")\n",
        "print(tf.transpose(Y),\"\\n\")"
      ],
      "execution_count": 52,
      "outputs": [
        {
          "output_type": "stream",
          "text": [
            "Normal Y:\n",
            "tf.Tensor(\n",
            "[[ 7  8]\n",
            " [ 9 10]\n",
            " [11 12]], shape=(3, 2), dtype=int32) \n",
            "\n",
            "Y reshaped to (2, 3): \n",
            "tf.Tensor(\n",
            "[[ 7  8  9]\n",
            " [10 11 12]], shape=(2, 3), dtype=int32) \n",
            "\n",
            "Y reshaped to (2, 3): \n",
            "tf.Tensor(\n",
            "[[ 7  9 11]\n",
            " [ 8 10 12]], shape=(2, 3), dtype=int32) \n",
            "\n"
          ],
          "name": "stdout"
        }
      ]
    },
    {
      "cell_type": "markdown",
      "metadata": {
        "id": "X_6JiveBdneJ"
      },
      "source": [
        "Genearlly, when performing matrix multiplication on two tensors and one of the axes doesn't line up, you will transpose (rather than reshape) one of the tensors to get satisfy the matrix multiplication rules."
      ]
    },
    {
      "cell_type": "markdown",
      "metadata": {
        "id": "Wo1dU2eweGv0"
      },
      "source": [
        "### Changing the datatype of a tensor"
      ]
    },
    {
      "cell_type": "code",
      "metadata": {
        "colab": {
          "base_uri": "https://localhost:8080/",
          "height": 35
        },
        "id": "FLLotCNWelNB",
        "outputId": "683bce27-9c2e-434b-de3f-78a39f03f348"
      },
      "source": [
        "tf.__version__"
      ],
      "execution_count": 53,
      "outputs": [
        {
          "output_type": "execute_result",
          "data": {
            "application/vnd.google.colaboratory.intrinsic+json": {
              "type": "string"
            },
            "text/plain": [
              "'2.5.0'"
            ]
          },
          "metadata": {
            "tags": []
          },
          "execution_count": 53
        }
      ]
    },
    {
      "cell_type": "code",
      "metadata": {
        "colab": {
          "base_uri": "https://localhost:8080/"
        },
        "id": "dqZbU1aacpl7",
        "outputId": "18189232-1a33-453f-b71e-9b826e401cd3"
      },
      "source": [
        "#Create a new tensor with default datatype(float32)\n",
        "B = tf.constant([1.7, 7.4])\n",
        "B.dtype"
      ],
      "execution_count": 54,
      "outputs": [
        {
          "output_type": "execute_result",
          "data": {
            "text/plain": [
              "tf.float32"
            ]
          },
          "metadata": {
            "tags": []
          },
          "execution_count": 54
        }
      ]
    },
    {
      "cell_type": "code",
      "metadata": {
        "colab": {
          "base_uri": "https://localhost:8080/"
        },
        "id": "MrjoUj_weOUA",
        "outputId": "24491966-cd46-4fb3-c917-2797d18d2058"
      },
      "source": [
        "C = tf.constant([7, 10])\n",
        "C.dtype"
      ],
      "execution_count": 55,
      "outputs": [
        {
          "output_type": "execute_result",
          "data": {
            "text/plain": [
              "tf.int32"
            ]
          },
          "metadata": {
            "tags": []
          },
          "execution_count": 55
        }
      ]
    },
    {
      "cell_type": "code",
      "metadata": {
        "colab": {
          "base_uri": "https://localhost:8080/"
        },
        "id": "azWEfntmecKn",
        "outputId": "9aac634a-79c2-42b8-bc10-10dfbe36cf4b"
      },
      "source": [
        "# Change from float32 to float 16 (float precision)\n",
        "D = tf.cast(B, dtype=tf.float16)\n",
        "D, D.dtype"
      ],
      "execution_count": 56,
      "outputs": [
        {
          "output_type": "execute_result",
          "data": {
            "text/plain": [
              "(<tf.Tensor: shape=(2,), dtype=float16, numpy=array([1.7, 7.4], dtype=float16)>,\n",
              " tf.float16)"
            ]
          },
          "metadata": {
            "tags": []
          },
          "execution_count": 56
        }
      ]
    },
    {
      "cell_type": "code",
      "metadata": {
        "colab": {
          "base_uri": "https://localhost:8080/"
        },
        "id": "yhVUPkEwfZ6O",
        "outputId": "efbc5304-ff2a-444e-e255-a791eff2f5d5"
      },
      "source": [
        "# Change from int32 to float32\n",
        "E = tf.cast(C, dtype=tf.float32)\n",
        "E"
      ],
      "execution_count": 57,
      "outputs": [
        {
          "output_type": "execute_result",
          "data": {
            "text/plain": [
              "<tf.Tensor: shape=(2,), dtype=float32, numpy=array([ 7., 10.], dtype=float32)>"
            ]
          },
          "metadata": {
            "tags": []
          },
          "execution_count": 57
        }
      ]
    },
    {
      "cell_type": "code",
      "metadata": {
        "colab": {
          "base_uri": "https://localhost:8080/"
        },
        "id": "_ATUzat3fw6J",
        "outputId": "b6254473-828a-467b-decd-4217e2548c36"
      },
      "source": [
        "E_float16 = tf.cast(E, dtype=tf.float16)\n",
        "E_float16\n"
      ],
      "execution_count": 58,
      "outputs": [
        {
          "output_type": "execute_result",
          "data": {
            "text/plain": [
              "<tf.Tensor: shape=(2,), dtype=float16, numpy=array([ 7., 10.], dtype=float16)>"
            ]
          },
          "metadata": {
            "tags": []
          },
          "execution_count": 58
        }
      ]
    },
    {
      "cell_type": "markdown",
      "metadata": {
        "id": "G9O8gh2Agnr4"
      },
      "source": [
        "### Aggregration tensors\n",
        "\n",
        "Aggregating tensors = condensing them from multiple values down to a smaller amount of values."
      ]
    },
    {
      "cell_type": "code",
      "metadata": {
        "colab": {
          "base_uri": "https://localhost:8080/"
        },
        "id": "DJybX_bxgTPi",
        "outputId": "74f3a8c9-ad0c-4817-c612-e3a9d6352e08"
      },
      "source": [
        "# Get the absolute values\n",
        "D = tf.constant([-7, -10])\n",
        "D"
      ],
      "execution_count": 59,
      "outputs": [
        {
          "output_type": "execute_result",
          "data": {
            "text/plain": [
              "<tf.Tensor: shape=(2,), dtype=int32, numpy=array([ -7, -10], dtype=int32)>"
            ]
          },
          "metadata": {
            "tags": []
          },
          "execution_count": 59
        }
      ]
    },
    {
      "cell_type": "code",
      "metadata": {
        "colab": {
          "base_uri": "https://localhost:8080/"
        },
        "id": "ZOESMjgTgm1V",
        "outputId": "e6782c33-cd75-40d4-c311-9c8173528e95"
      },
      "source": [
        "# Get the absolute values\n",
        "tf.abs(D)"
      ],
      "execution_count": 60,
      "outputs": [
        {
          "output_type": "execute_result",
          "data": {
            "text/plain": [
              "<tf.Tensor: shape=(2,), dtype=int32, numpy=array([ 7, 10], dtype=int32)>"
            ]
          },
          "metadata": {
            "tags": []
          },
          "execution_count": 60
        }
      ]
    },
    {
      "cell_type": "markdown",
      "metadata": {
        "id": "YPeMRkqgio8X"
      },
      "source": [
        "# Let's go through the following forms of aggregation:\n",
        "* Get the minimum\n",
        "* Get the maximum\n",
        "* Get the mean of a tensor\n",
        "* Get the sum of a tensor"
      ]
    },
    {
      "cell_type": "code",
      "metadata": {
        "colab": {
          "base_uri": "https://localhost:8080/"
        },
        "id": "3T8zmCjKhpR5",
        "outputId": "3244b60e-053e-4fb4-a306-3bf697813792"
      },
      "source": [
        "# Create a random tensor with values between 0 and 100 of size 50\n",
        "E = tf.constant(np.random.randint(0, 100, size=50))\n",
        "E"
      ],
      "execution_count": 61,
      "outputs": [
        {
          "output_type": "execute_result",
          "data": {
            "text/plain": [
              "<tf.Tensor: shape=(50,), dtype=int64, numpy=\n",
              "array([20, 72, 45, 29, 97, 14,  6, 21, 29, 77, 60, 59, 19, 23, 99, 13, 99,\n",
              "       12, 17, 14, 63, 79, 55, 89, 17, 29, 74, 81, 40, 60, 22, 10, 60, 68,\n",
              "       96, 29, 97, 24, 28, 33,  6,  6, 77, 34, 87, 41, 98, 35, 99, 61])>"
            ]
          },
          "metadata": {
            "tags": []
          },
          "execution_count": 61
        }
      ]
    },
    {
      "cell_type": "code",
      "metadata": {
        "colab": {
          "base_uri": "https://localhost:8080/"
        },
        "id": "5LQSiJkBimdh",
        "outputId": "9503d611-4874-40ae-ef81-43195f4dea37"
      },
      "source": [
        "tf.size(E), E.shape, E.ndim"
      ],
      "execution_count": 62,
      "outputs": [
        {
          "output_type": "execute_result",
          "data": {
            "text/plain": [
              "(<tf.Tensor: shape=(), dtype=int32, numpy=50>, TensorShape([50]), 1)"
            ]
          },
          "metadata": {
            "tags": []
          },
          "execution_count": 62
        }
      ]
    },
    {
      "cell_type": "code",
      "metadata": {
        "colab": {
          "base_uri": "https://localhost:8080/"
        },
        "id": "imylbWnqjLkD",
        "outputId": "ed9b56aa-0c1a-4b30-a69b-f9d3ebe93a5f"
      },
      "source": [
        "# Find the minimum\n",
        "tf.reduce_min(E)"
      ],
      "execution_count": 63,
      "outputs": [
        {
          "output_type": "execute_result",
          "data": {
            "text/plain": [
              "<tf.Tensor: shape=(), dtype=int64, numpy=6>"
            ]
          },
          "metadata": {
            "tags": []
          },
          "execution_count": 63
        }
      ]
    },
    {
      "cell_type": "code",
      "metadata": {
        "colab": {
          "base_uri": "https://localhost:8080/"
        },
        "id": "0VdqeE2-jo_c",
        "outputId": "f5932ebf-3378-4df2-c8ec-4635dbd5c636"
      },
      "source": [
        "# Find the maximum\n",
        "tf.reduce_max(E)"
      ],
      "execution_count": 64,
      "outputs": [
        {
          "output_type": "execute_result",
          "data": {
            "text/plain": [
              "<tf.Tensor: shape=(), dtype=int64, numpy=99>"
            ]
          },
          "metadata": {
            "tags": []
          },
          "execution_count": 64
        }
      ]
    },
    {
      "cell_type": "code",
      "metadata": {
        "colab": {
          "base_uri": "https://localhost:8080/"
        },
        "id": "lTd0kcePjyyk",
        "outputId": "103d3b7a-dcc9-4c38-e389-28876673acf2"
      },
      "source": [
        "# Find the mean\n",
        "tf.reduce_mean(E)"
      ],
      "execution_count": 65,
      "outputs": [
        {
          "output_type": "execute_result",
          "data": {
            "text/plain": [
              "<tf.Tensor: shape=(), dtype=int64, numpy=48>"
            ]
          },
          "metadata": {
            "tags": []
          },
          "execution_count": 65
        }
      ]
    },
    {
      "cell_type": "code",
      "metadata": {
        "colab": {
          "base_uri": "https://localhost:8080/"
        },
        "id": "i4VP6XZdj0k2",
        "outputId": "bee266b5-1ab4-499b-d029-81788799ccc2"
      },
      "source": [
        "# Find the sum\n",
        "tf.reduce_sum(E)"
      ],
      "execution_count": 66,
      "outputs": [
        {
          "output_type": "execute_result",
          "data": {
            "text/plain": [
              "<tf.Tensor: shape=(), dtype=int64, numpy=2423>"
            ]
          },
          "metadata": {
            "tags": []
          },
          "execution_count": 66
        }
      ]
    },
    {
      "cell_type": "markdown",
      "metadata": {
        "id": "3qTE8lLrj_rt"
      },
      "source": [
        "Exercies: with what we've just learned, find the variance and standard deviation of our E tensor using TensorFlow methods."
      ]
    },
    {
      "cell_type": "code",
      "metadata": {
        "colab": {
          "base_uri": "https://localhost:8080/",
          "height": 324
        },
        "id": "umT7tLlukOuQ",
        "outputId": "820159b2-268f-4415-e27b-fc8be626fdcc"
      },
      "source": [
        "# Find the variance\n",
        "tf.math.reduce_variance(E)"
      ],
      "execution_count": 67,
      "outputs": [
        {
          "output_type": "error",
          "ename": "TypeError",
          "evalue": "ignored",
          "traceback": [
            "\u001b[0;31m---------------------------------------------------------------------------\u001b[0m",
            "\u001b[0;31mTypeError\u001b[0m                                 Traceback (most recent call last)",
            "\u001b[0;32m<ipython-input-67-105861947ee1>\u001b[0m in \u001b[0;36m<module>\u001b[0;34m()\u001b[0m\n\u001b[1;32m      1\u001b[0m \u001b[0;31m# Find the variance\u001b[0m\u001b[0;34m\u001b[0m\u001b[0;34m\u001b[0m\u001b[0;34m\u001b[0m\u001b[0m\n\u001b[0;32m----> 2\u001b[0;31m \u001b[0mtf\u001b[0m\u001b[0;34m.\u001b[0m\u001b[0mmath\u001b[0m\u001b[0;34m.\u001b[0m\u001b[0mreduce_variance\u001b[0m\u001b[0;34m(\u001b[0m\u001b[0mE\u001b[0m\u001b[0;34m)\u001b[0m\u001b[0;34m\u001b[0m\u001b[0;34m\u001b[0m\u001b[0m\n\u001b[0m",
            "\u001b[0;32m/usr/local/lib/python3.7/dist-packages/tensorflow/python/util/dispatch.py\u001b[0m in \u001b[0;36mwrapper\u001b[0;34m(*args, **kwargs)\u001b[0m\n\u001b[1;32m    204\u001b[0m     \u001b[0;34m\"\"\"Call target, and fall back on dispatchers if there is a TypeError.\"\"\"\u001b[0m\u001b[0;34m\u001b[0m\u001b[0;34m\u001b[0m\u001b[0m\n\u001b[1;32m    205\u001b[0m     \u001b[0;32mtry\u001b[0m\u001b[0;34m:\u001b[0m\u001b[0;34m\u001b[0m\u001b[0;34m\u001b[0m\u001b[0m\n\u001b[0;32m--> 206\u001b[0;31m       \u001b[0;32mreturn\u001b[0m \u001b[0mtarget\u001b[0m\u001b[0;34m(\u001b[0m\u001b[0;34m*\u001b[0m\u001b[0margs\u001b[0m\u001b[0;34m,\u001b[0m \u001b[0;34m**\u001b[0m\u001b[0mkwargs\u001b[0m\u001b[0;34m)\u001b[0m\u001b[0;34m\u001b[0m\u001b[0;34m\u001b[0m\u001b[0m\n\u001b[0m\u001b[1;32m    207\u001b[0m     \u001b[0;32mexcept\u001b[0m \u001b[0;34m(\u001b[0m\u001b[0mTypeError\u001b[0m\u001b[0;34m,\u001b[0m \u001b[0mValueError\u001b[0m\u001b[0;34m)\u001b[0m\u001b[0;34m:\u001b[0m\u001b[0;34m\u001b[0m\u001b[0;34m\u001b[0m\u001b[0m\n\u001b[1;32m    208\u001b[0m       \u001b[0;31m# Note: convert_to_eager_tensor currently raises a ValueError, not a\u001b[0m\u001b[0;34m\u001b[0m\u001b[0;34m\u001b[0m\u001b[0;34m\u001b[0m\u001b[0m\n",
            "\u001b[0;32m/usr/local/lib/python3.7/dist-packages/tensorflow/python/ops/math_ops.py\u001b[0m in \u001b[0;36mreduce_variance\u001b[0;34m(input_tensor, axis, keepdims, name)\u001b[0m\n\u001b[1;32m   2497\u001b[0m     \u001b[0mmeans\u001b[0m \u001b[0;34m=\u001b[0m \u001b[0mreduce_mean\u001b[0m\u001b[0;34m(\u001b[0m\u001b[0minput_tensor\u001b[0m\u001b[0;34m,\u001b[0m \u001b[0maxis\u001b[0m\u001b[0;34m=\u001b[0m\u001b[0maxis\u001b[0m\u001b[0;34m,\u001b[0m \u001b[0mkeepdims\u001b[0m\u001b[0;34m=\u001b[0m\u001b[0;32mTrue\u001b[0m\u001b[0;34m)\u001b[0m\u001b[0;34m\u001b[0m\u001b[0;34m\u001b[0m\u001b[0m\n\u001b[1;32m   2498\u001b[0m     \u001b[0;32mif\u001b[0m \u001b[0mmeans\u001b[0m\u001b[0;34m.\u001b[0m\u001b[0mdtype\u001b[0m\u001b[0;34m.\u001b[0m\u001b[0mis_integer\u001b[0m\u001b[0;34m:\u001b[0m\u001b[0;34m\u001b[0m\u001b[0;34m\u001b[0m\u001b[0m\n\u001b[0;32m-> 2499\u001b[0;31m       \u001b[0;32mraise\u001b[0m \u001b[0mTypeError\u001b[0m\u001b[0;34m(\u001b[0m\u001b[0;34m\"Input must be either real or complex\"\u001b[0m\u001b[0;34m)\u001b[0m\u001b[0;34m\u001b[0m\u001b[0;34m\u001b[0m\u001b[0m\n\u001b[0m\u001b[1;32m   2500\u001b[0m     \u001b[0mdiff\u001b[0m \u001b[0;34m=\u001b[0m \u001b[0minput_tensor\u001b[0m \u001b[0;34m-\u001b[0m \u001b[0mmeans\u001b[0m\u001b[0;34m\u001b[0m\u001b[0;34m\u001b[0m\u001b[0m\n\u001b[1;32m   2501\u001b[0m     \u001b[0;32mif\u001b[0m \u001b[0mdiff\u001b[0m\u001b[0;34m.\u001b[0m\u001b[0mdtype\u001b[0m\u001b[0;34m.\u001b[0m\u001b[0mis_complex\u001b[0m\u001b[0;34m:\u001b[0m\u001b[0;34m\u001b[0m\u001b[0;34m\u001b[0m\u001b[0m\n",
            "\u001b[0;31mTypeError\u001b[0m: Input must be either real or complex"
          ]
        }
      ]
    },
    {
      "cell_type": "code",
      "metadata": {
        "id": "DboU37lplkh5"
      },
      "source": [
        "#To find teh variance of our tensor, we need access to tensorflow_probability\n",
        "\n",
        "import tensorflow_probability as tfp"
      ],
      "execution_count": 69,
      "outputs": []
    },
    {
      "cell_type": "code",
      "metadata": {
        "colab": {
          "base_uri": "https://localhost:8080/"
        },
        "id": "0SHDZJ5Kl1XP",
        "outputId": "a6703749-77cb-44e4-f49c-e88e4d7140ed"
      },
      "source": [
        "tfp.stats.variance(E)"
      ],
      "execution_count": 70,
      "outputs": [
        {
          "output_type": "execute_result",
          "data": {
            "text/plain": [
              "<tf.Tensor: shape=(), dtype=int64, numpy=945>"
            ]
          },
          "metadata": {
            "tags": []
          },
          "execution_count": 70
        }
      ]
    },
    {
      "cell_type": "code",
      "metadata": {
        "colab": {
          "base_uri": "https://localhost:8080/"
        },
        "id": "ZTH4N05Hj-NL",
        "outputId": "4a97048f-a048-4e32-afda-943a312d2487"
      },
      "source": [
        "#Find the Standard Deviation\n",
        "tf.math.reduce_std(tf.cast(E, dtype=tf.float32))"
      ],
      "execution_count": 71,
      "outputs": [
        {
          "output_type": "execute_result",
          "data": {
            "text/plain": [
              "<tf.Tensor: shape=(), dtype=float32, numpy=30.74359>"
            ]
          },
          "metadata": {
            "tags": []
          },
          "execution_count": 71
        }
      ]
    },
    {
      "cell_type": "code",
      "metadata": {
        "colab": {
          "base_uri": "https://localhost:8080/",
          "height": 307
        },
        "id": "zBIa_6kak9an",
        "outputId": "27a240ac-5ff2-4379-e06e-686aa2fff856"
      },
      "source": [
        "tf.math.reduce_std(E)"
      ],
      "execution_count": 72,
      "outputs": [
        {
          "output_type": "error",
          "ename": "TypeError",
          "evalue": "ignored",
          "traceback": [
            "\u001b[0;31m---------------------------------------------------------------------------\u001b[0m",
            "\u001b[0;31mTypeError\u001b[0m                                 Traceback (most recent call last)",
            "\u001b[0;32m<ipython-input-72-4705f2bb2a39>\u001b[0m in \u001b[0;36m<module>\u001b[0;34m()\u001b[0m\n\u001b[0;32m----> 1\u001b[0;31m \u001b[0mtf\u001b[0m\u001b[0;34m.\u001b[0m\u001b[0mmath\u001b[0m\u001b[0;34m.\u001b[0m\u001b[0mreduce_std\u001b[0m\u001b[0;34m(\u001b[0m\u001b[0mE\u001b[0m\u001b[0;34m)\u001b[0m\u001b[0;34m\u001b[0m\u001b[0;34m\u001b[0m\u001b[0m\n\u001b[0m",
            "\u001b[0;32m/usr/local/lib/python3.7/dist-packages/tensorflow/python/util/dispatch.py\u001b[0m in \u001b[0;36mwrapper\u001b[0;34m(*args, **kwargs)\u001b[0m\n\u001b[1;32m    204\u001b[0m     \u001b[0;34m\"\"\"Call target, and fall back on dispatchers if there is a TypeError.\"\"\"\u001b[0m\u001b[0;34m\u001b[0m\u001b[0;34m\u001b[0m\u001b[0m\n\u001b[1;32m    205\u001b[0m     \u001b[0;32mtry\u001b[0m\u001b[0;34m:\u001b[0m\u001b[0;34m\u001b[0m\u001b[0;34m\u001b[0m\u001b[0m\n\u001b[0;32m--> 206\u001b[0;31m       \u001b[0;32mreturn\u001b[0m \u001b[0mtarget\u001b[0m\u001b[0;34m(\u001b[0m\u001b[0;34m*\u001b[0m\u001b[0margs\u001b[0m\u001b[0;34m,\u001b[0m \u001b[0;34m**\u001b[0m\u001b[0mkwargs\u001b[0m\u001b[0;34m)\u001b[0m\u001b[0;34m\u001b[0m\u001b[0;34m\u001b[0m\u001b[0m\n\u001b[0m\u001b[1;32m    207\u001b[0m     \u001b[0;32mexcept\u001b[0m \u001b[0;34m(\u001b[0m\u001b[0mTypeError\u001b[0m\u001b[0;34m,\u001b[0m \u001b[0mValueError\u001b[0m\u001b[0;34m)\u001b[0m\u001b[0;34m:\u001b[0m\u001b[0;34m\u001b[0m\u001b[0;34m\u001b[0m\u001b[0m\n\u001b[1;32m    208\u001b[0m       \u001b[0;31m# Note: convert_to_eager_tensor currently raises a ValueError, not a\u001b[0m\u001b[0;34m\u001b[0m\u001b[0;34m\u001b[0m\u001b[0;34m\u001b[0m\u001b[0m\n",
            "\u001b[0;32m/usr/local/lib/python3.7/dist-packages/tensorflow/python/ops/math_ops.py\u001b[0m in \u001b[0;36mreduce_std\u001b[0;34m(input_tensor, axis, keepdims, name)\u001b[0m\n\u001b[1;32m   2556\u001b[0m   \u001b[0mname\u001b[0m \u001b[0;34m=\u001b[0m \u001b[0mname\u001b[0m \u001b[0;32mif\u001b[0m \u001b[0mname\u001b[0m \u001b[0;32melse\u001b[0m \u001b[0;34m\"reduce_std\"\u001b[0m\u001b[0;34m\u001b[0m\u001b[0;34m\u001b[0m\u001b[0m\n\u001b[1;32m   2557\u001b[0m   \u001b[0;32mwith\u001b[0m \u001b[0mops\u001b[0m\u001b[0;34m.\u001b[0m\u001b[0mname_scope\u001b[0m\u001b[0;34m(\u001b[0m\u001b[0mname\u001b[0m\u001b[0;34m)\u001b[0m\u001b[0;34m:\u001b[0m\u001b[0;34m\u001b[0m\u001b[0;34m\u001b[0m\u001b[0m\n\u001b[0;32m-> 2558\u001b[0;31m     \u001b[0mvariance\u001b[0m \u001b[0;34m=\u001b[0m \u001b[0mreduce_variance\u001b[0m\u001b[0;34m(\u001b[0m\u001b[0minput_tensor\u001b[0m\u001b[0;34m,\u001b[0m \u001b[0maxis\u001b[0m\u001b[0;34m=\u001b[0m\u001b[0maxis\u001b[0m\u001b[0;34m,\u001b[0m \u001b[0mkeepdims\u001b[0m\u001b[0;34m=\u001b[0m\u001b[0mkeepdims\u001b[0m\u001b[0;34m)\u001b[0m\u001b[0;34m\u001b[0m\u001b[0;34m\u001b[0m\u001b[0m\n\u001b[0m\u001b[1;32m   2559\u001b[0m     \u001b[0;32mreturn\u001b[0m \u001b[0mgen_math_ops\u001b[0m\u001b[0;34m.\u001b[0m\u001b[0msqrt\u001b[0m\u001b[0;34m(\u001b[0m\u001b[0mvariance\u001b[0m\u001b[0;34m)\u001b[0m\u001b[0;34m\u001b[0m\u001b[0;34m\u001b[0m\u001b[0m\n\u001b[1;32m   2560\u001b[0m \u001b[0;34m\u001b[0m\u001b[0m\n",
            "\u001b[0;32m/usr/local/lib/python3.7/dist-packages/tensorflow/python/util/dispatch.py\u001b[0m in \u001b[0;36mwrapper\u001b[0;34m(*args, **kwargs)\u001b[0m\n\u001b[1;32m    204\u001b[0m     \u001b[0;34m\"\"\"Call target, and fall back on dispatchers if there is a TypeError.\"\"\"\u001b[0m\u001b[0;34m\u001b[0m\u001b[0;34m\u001b[0m\u001b[0m\n\u001b[1;32m    205\u001b[0m     \u001b[0;32mtry\u001b[0m\u001b[0;34m:\u001b[0m\u001b[0;34m\u001b[0m\u001b[0;34m\u001b[0m\u001b[0m\n\u001b[0;32m--> 206\u001b[0;31m       \u001b[0;32mreturn\u001b[0m \u001b[0mtarget\u001b[0m\u001b[0;34m(\u001b[0m\u001b[0;34m*\u001b[0m\u001b[0margs\u001b[0m\u001b[0;34m,\u001b[0m \u001b[0;34m**\u001b[0m\u001b[0mkwargs\u001b[0m\u001b[0;34m)\u001b[0m\u001b[0;34m\u001b[0m\u001b[0;34m\u001b[0m\u001b[0m\n\u001b[0m\u001b[1;32m    207\u001b[0m     \u001b[0;32mexcept\u001b[0m \u001b[0;34m(\u001b[0m\u001b[0mTypeError\u001b[0m\u001b[0;34m,\u001b[0m \u001b[0mValueError\u001b[0m\u001b[0;34m)\u001b[0m\u001b[0;34m:\u001b[0m\u001b[0;34m\u001b[0m\u001b[0;34m\u001b[0m\u001b[0m\n\u001b[1;32m    208\u001b[0m       \u001b[0;31m# Note: convert_to_eager_tensor currently raises a ValueError, not a\u001b[0m\u001b[0;34m\u001b[0m\u001b[0;34m\u001b[0m\u001b[0;34m\u001b[0m\u001b[0m\n",
            "\u001b[0;32m/usr/local/lib/python3.7/dist-packages/tensorflow/python/ops/math_ops.py\u001b[0m in \u001b[0;36mreduce_variance\u001b[0;34m(input_tensor, axis, keepdims, name)\u001b[0m\n\u001b[1;32m   2497\u001b[0m     \u001b[0mmeans\u001b[0m \u001b[0;34m=\u001b[0m \u001b[0mreduce_mean\u001b[0m\u001b[0;34m(\u001b[0m\u001b[0minput_tensor\u001b[0m\u001b[0;34m,\u001b[0m \u001b[0maxis\u001b[0m\u001b[0;34m=\u001b[0m\u001b[0maxis\u001b[0m\u001b[0;34m,\u001b[0m \u001b[0mkeepdims\u001b[0m\u001b[0;34m=\u001b[0m\u001b[0;32mTrue\u001b[0m\u001b[0;34m)\u001b[0m\u001b[0;34m\u001b[0m\u001b[0;34m\u001b[0m\u001b[0m\n\u001b[1;32m   2498\u001b[0m     \u001b[0;32mif\u001b[0m \u001b[0mmeans\u001b[0m\u001b[0;34m.\u001b[0m\u001b[0mdtype\u001b[0m\u001b[0;34m.\u001b[0m\u001b[0mis_integer\u001b[0m\u001b[0;34m:\u001b[0m\u001b[0;34m\u001b[0m\u001b[0;34m\u001b[0m\u001b[0m\n\u001b[0;32m-> 2499\u001b[0;31m       \u001b[0;32mraise\u001b[0m \u001b[0mTypeError\u001b[0m\u001b[0;34m(\u001b[0m\u001b[0;34m\"Input must be either real or complex\"\u001b[0m\u001b[0;34m)\u001b[0m\u001b[0;34m\u001b[0m\u001b[0;34m\u001b[0m\u001b[0m\n\u001b[0m\u001b[1;32m   2500\u001b[0m     \u001b[0mdiff\u001b[0m \u001b[0;34m=\u001b[0m \u001b[0minput_tensor\u001b[0m \u001b[0;34m-\u001b[0m \u001b[0mmeans\u001b[0m\u001b[0;34m\u001b[0m\u001b[0;34m\u001b[0m\u001b[0m\n\u001b[1;32m   2501\u001b[0m     \u001b[0;32mif\u001b[0m \u001b[0mdiff\u001b[0m\u001b[0;34m.\u001b[0m\u001b[0mdtype\u001b[0m\u001b[0;34m.\u001b[0m\u001b[0mis_complex\u001b[0m\u001b[0;34m:\u001b[0m\u001b[0;34m\u001b[0m\u001b[0;34m\u001b[0m\u001b[0m\n",
            "\u001b[0;31mTypeError\u001b[0m: Input must be either real or complex"
          ]
        }
      ]
    },
    {
      "cell_type": "code",
      "metadata": {
        "colab": {
          "base_uri": "https://localhost:8080/"
        },
        "id": "QYeMbP_mqI4m",
        "outputId": "71cc3898-7464-4296-9834-f56bc7f9ba92"
      },
      "source": [
        "#Find the variance of our E tensor\n",
        "tf.math.reduce_variance(tf.cast(E, dtype=tf.float32))"
      ],
      "execution_count": 73,
      "outputs": [
        {
          "output_type": "execute_result",
          "data": {
            "text/plain": [
              "<tf.Tensor: shape=(), dtype=float32, numpy=945.16833>"
            ]
          },
          "metadata": {
            "tags": []
          },
          "execution_count": 73
        }
      ]
    },
    {
      "cell_type": "markdown",
      "metadata": {
        "id": "wpPuZB1onfET"
      },
      "source": [
        "** Find the positional maximum and minimum\n",
        "\n"
      ]
    },
    {
      "cell_type": "code",
      "metadata": {
        "colab": {
          "base_uri": "https://localhost:8080/"
        },
        "id": "4AxSAxtbnH4N",
        "outputId": "2e450d1c-ac54-4828-c651-60bd1356c7b4"
      },
      "source": [
        "# Create a new tensor for finding positional minimum and maximum\n",
        "F = tf.random.uniform(shape=[50])\n",
        "F"
      ],
      "execution_count": 106,
      "outputs": [
        {
          "output_type": "execute_result",
          "data": {
            "text/plain": [
              "<tf.Tensor: shape=(50,), dtype=float32, numpy=\n",
              "array([0.8937987 , 0.43776572, 0.83387184, 0.6703849 , 0.7216798 ,\n",
              "       0.86943173, 0.54742575, 0.57897806, 0.40581357, 0.33451593,\n",
              "       0.18743455, 0.31529808, 0.4144038 , 0.70901597, 0.07722998,\n",
              "       0.5190139 , 0.9321145 , 0.11467326, 0.47249925, 0.15570831,\n",
              "       0.66262126, 0.64640594, 0.65028846, 0.2600894 , 0.99700594,\n",
              "       0.10780168, 0.8822334 , 0.65541565, 0.68591726, 0.4961207 ,\n",
              "       0.56568956, 0.6139103 , 0.0126065 , 0.4415189 , 0.47879303,\n",
              "       0.14201498, 0.16224837, 0.9041022 , 0.7532749 , 0.66275036,\n",
              "       0.38586116, 0.85653543, 0.7811507 , 0.03921056, 0.8824413 ,\n",
              "       0.57388675, 0.42614317, 0.4770161 , 0.7405988 , 0.59374905],\n",
              "      dtype=float32)>"
            ]
          },
          "metadata": {
            "tags": []
          },
          "execution_count": 106
        }
      ]
    },
    {
      "cell_type": "code",
      "metadata": {
        "colab": {
          "base_uri": "https://localhost:8080/"
        },
        "id": "aTp7sSj5rkSN",
        "outputId": "671166f6-d6c3-49c2-ab62-39d251ecdcbe"
      },
      "source": [
        "# Find the positional maximum\n",
        "tf.argmax(F)"
      ],
      "execution_count": 107,
      "outputs": [
        {
          "output_type": "execute_result",
          "data": {
            "text/plain": [
              "<tf.Tensor: shape=(), dtype=int64, numpy=24>"
            ]
          },
          "metadata": {
            "tags": []
          },
          "execution_count": 107
        }
      ]
    },
    {
      "cell_type": "code",
      "metadata": {
        "colab": {
          "base_uri": "https://localhost:8080/"
        },
        "id": "YWATcfz2r5G8",
        "outputId": "3ed40582-eadf-4089-cc36-d1e29da3063b"
      },
      "source": [
        "# Index on our largest value position\n",
        "F[tf.argmax(F)]"
      ],
      "execution_count": 108,
      "outputs": [
        {
          "output_type": "execute_result",
          "data": {
            "text/plain": [
              "<tf.Tensor: shape=(), dtype=float32, numpy=0.99700594>"
            ]
          },
          "metadata": {
            "tags": []
          },
          "execution_count": 108
        }
      ]
    },
    {
      "cell_type": "code",
      "metadata": {
        "colab": {
          "base_uri": "https://localhost:8080/"
        },
        "id": "UlYZr3HZsBCD",
        "outputId": "f38b5313-16ec-4dbc-9459-466ca0ad9c14"
      },
      "source": [
        "#Find the max value of F\n",
        "tf.reduce_max(F)"
      ],
      "execution_count": 109,
      "outputs": [
        {
          "output_type": "execute_result",
          "data": {
            "text/plain": [
              "<tf.Tensor: shape=(), dtype=float32, numpy=0.99700594>"
            ]
          },
          "metadata": {
            "tags": []
          },
          "execution_count": 109
        }
      ]
    },
    {
      "cell_type": "code",
      "metadata": {
        "colab": {
          "base_uri": "https://localhost:8080/"
        },
        "id": "ycCjvtzUsHJz",
        "outputId": "ac41605e-032f-487d-f42a-5e3903e3f4b4"
      },
      "source": [
        "#Check for equality\n",
        "F[tf.argmax(F)] == tf.reduce_max(F)"
      ],
      "execution_count": 80,
      "outputs": [
        {
          "output_type": "execute_result",
          "data": {
            "text/plain": [
              "<tf.Tensor: shape=(), dtype=bool, numpy=True>"
            ]
          },
          "metadata": {
            "tags": []
          },
          "execution_count": 80
        }
      ]
    },
    {
      "cell_type": "code",
      "metadata": {
        "colab": {
          "base_uri": "https://localhost:8080/"
        },
        "id": "1q7jk8gBsLnp",
        "outputId": "c9fb5187-f300-465e-cb15-b08f7c721a49"
      },
      "source": [
        "# Find the positional Minimum\n",
        "tf.argmin(F)"
      ],
      "execution_count": 88,
      "outputs": [
        {
          "output_type": "execute_result",
          "data": {
            "text/plain": [
              "<tf.Tensor: shape=(), dtype=int64, numpy=30>"
            ]
          },
          "metadata": {
            "tags": []
          },
          "execution_count": 88
        }
      ]
    },
    {
      "cell_type": "code",
      "metadata": {
        "colab": {
          "base_uri": "https://localhost:8080/"
        },
        "id": "dEqYv8dxs1rp",
        "outputId": "e4cdd47e-5355-4f92-e740-14694806c5ce"
      },
      "source": [
        "# Index on our largest value position\n",
        "F[tf.argmin(F)]"
      ],
      "execution_count": 84,
      "outputs": [
        {
          "output_type": "execute_result",
          "data": {
            "text/plain": [
              "<tf.Tensor: shape=(), dtype=float32, numpy=0.013772249>"
            ]
          },
          "metadata": {
            "tags": []
          },
          "execution_count": 84
        }
      ]
    },
    {
      "cell_type": "code",
      "metadata": {
        "colab": {
          "base_uri": "https://localhost:8080/"
        },
        "id": "3rrYmcOZs9e5",
        "outputId": "ee197970-a1ac-4925-aca1-cf40e6a5ce0d"
      },
      "source": [
        "#Find the max value of F\n",
        "tf.reduce_min(F)"
      ],
      "execution_count": 85,
      "outputs": [
        {
          "output_type": "execute_result",
          "data": {
            "text/plain": [
              "<tf.Tensor: shape=(), dtype=float32, numpy=0.013772249>"
            ]
          },
          "metadata": {
            "tags": []
          },
          "execution_count": 85
        }
      ]
    },
    {
      "cell_type": "code",
      "metadata": {
        "colab": {
          "base_uri": "https://localhost:8080/"
        },
        "id": "JXvNEQx3s_qY",
        "outputId": "0d185793-7ea3-45c6-ce2d-5ccb824dd20d"
      },
      "source": [
        "#Check for equality\n",
        "F[tf.argmin(F)] == tf.reduce_min(F)"
      ],
      "execution_count": 86,
      "outputs": [
        {
          "output_type": "execute_result",
          "data": {
            "text/plain": [
              "<tf.Tensor: shape=(), dtype=bool, numpy=True>"
            ]
          },
          "metadata": {
            "tags": []
          },
          "execution_count": 86
        }
      ]
    },
    {
      "cell_type": "markdown",
      "metadata": {
        "id": "LKPrKx1yuUpj"
      },
      "source": [
        "### Squeezing a tensor(removing all single dimensions)\n",
        "\n",
        "removes dimensions of size 1 from the shape of a tensor."
      ]
    },
    {
      "cell_type": "code",
      "metadata": {
        "colab": {
          "base_uri": "https://localhost:8080/"
        },
        "id": "iRz6FmmLtBdo",
        "outputId": "387d0539-3e0f-49c1-c816-723d4a003a67"
      },
      "source": [
        "#Create a tensor to get started\n",
        "tf.random.set_seed(42)\n",
        "G = tf.constant(tf.random.uniform(shape=[50]), shape= (1, 1, 1, 1, 50))\n",
        "G, G.shape"
      ],
      "execution_count": 113,
      "outputs": [
        {
          "output_type": "execute_result",
          "data": {
            "text/plain": [
              "(<tf.Tensor: shape=(1, 1, 1, 1, 50), dtype=float32, numpy=\n",
              " array([[[[[0.6645621 , 0.44100678, 0.3528825 , 0.46448255, 0.03366041,\n",
              "            0.68467236, 0.74011743, 0.8724445 , 0.22632635, 0.22319686,\n",
              "            0.3103881 , 0.7223358 , 0.13318717, 0.5480639 , 0.5746088 ,\n",
              "            0.8996835 , 0.00946367, 0.5212307 , 0.6345445 , 0.1993283 ,\n",
              "            0.72942245, 0.54583454, 0.10756552, 0.6767061 , 0.6602763 ,\n",
              "            0.33695042, 0.60141766, 0.21062577, 0.8527372 , 0.44062173,\n",
              "            0.9485276 , 0.23752594, 0.81179297, 0.5263394 , 0.494308  ,\n",
              "            0.21612847, 0.8457197 , 0.8718841 , 0.3083862 , 0.6868038 ,\n",
              "            0.23764038, 0.7817228 , 0.9671384 , 0.06870162, 0.79873943,\n",
              "            0.66028714, 0.5871513 , 0.16461694, 0.7381023 , 0.32054043]]]]],\n",
              "       dtype=float32)>, TensorShape([1, 1, 1, 1, 50]))"
            ]
          },
          "metadata": {
            "tags": []
          },
          "execution_count": 113
        }
      ]
    },
    {
      "cell_type": "code",
      "metadata": {
        "colab": {
          "base_uri": "https://localhost:8080/"
        },
        "id": "17QOukgius7p",
        "outputId": "d0636510-c4b6-432c-ebdb-c9519de9cf0b"
      },
      "source": [
        "G.shape"
      ],
      "execution_count": 110,
      "outputs": [
        {
          "output_type": "execute_result",
          "data": {
            "text/plain": [
              "TensorShape([1, 1, 1, 1, 50])"
            ]
          },
          "metadata": {
            "tags": []
          },
          "execution_count": 110
        }
      ]
    },
    {
      "cell_type": "code",
      "metadata": {
        "colab": {
          "base_uri": "https://localhost:8080/"
        },
        "id": "qaQOkgx_x9Az",
        "outputId": "eae85567-8eff-45f3-a393-88c5b67871c2"
      },
      "source": [
        "G_squeezed = tf.squeeze(G)\n",
        "G_squeezed, G_squeezed.shape"
      ],
      "execution_count": 114,
      "outputs": [
        {
          "output_type": "execute_result",
          "data": {
            "text/plain": [
              "(<tf.Tensor: shape=(50,), dtype=float32, numpy=\n",
              " array([0.6645621 , 0.44100678, 0.3528825 , 0.46448255, 0.03366041,\n",
              "        0.68467236, 0.74011743, 0.8724445 , 0.22632635, 0.22319686,\n",
              "        0.3103881 , 0.7223358 , 0.13318717, 0.5480639 , 0.5746088 ,\n",
              "        0.8996835 , 0.00946367, 0.5212307 , 0.6345445 , 0.1993283 ,\n",
              "        0.72942245, 0.54583454, 0.10756552, 0.6767061 , 0.6602763 ,\n",
              "        0.33695042, 0.60141766, 0.21062577, 0.8527372 , 0.44062173,\n",
              "        0.9485276 , 0.23752594, 0.81179297, 0.5263394 , 0.494308  ,\n",
              "        0.21612847, 0.8457197 , 0.8718841 , 0.3083862 , 0.6868038 ,\n",
              "        0.23764038, 0.7817228 , 0.9671384 , 0.06870162, 0.79873943,\n",
              "        0.66028714, 0.5871513 , 0.16461694, 0.7381023 , 0.32054043],\n",
              "       dtype=float32)>, TensorShape([50]))"
            ]
          },
          "metadata": {
            "tags": []
          },
          "execution_count": 114
        }
      ]
    },
    {
      "cell_type": "code",
      "metadata": {
        "id": "IiuA_3OGz8oY"
      },
      "source": [
        ""
      ],
      "execution_count": null,
      "outputs": []
    },
    {
      "cell_type": "markdown",
      "metadata": {
        "id": "Br7EdpOvy17F"
      },
      "source": [
        "### One-hot encoding\n",
        "\n",
        "Reference: https://machinelearningmastery.com/why-one-hot-encode-data-in-machine-learning/\n",
        "\n",
        "![Screenshot 2021-08-17 at 12.32.49 AM.png](data:image/png;base64,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)\n"
      ]
    },
    {
      "cell_type": "markdown",
      "metadata": {
        "id": "WbhttE29z-1Z"
      },
      "source": [
        "###one-hot coding is part of numerical coding\n",
        "\n"
      ]
    },
    {
      "cell_type": "code",
      "metadata": {
        "colab": {
          "base_uri": "https://localhost:8080/",
          "height": 317
        },
        "id": "eBW96KpYyJEz",
        "outputId": "2a74cc67-1521-40b3-8927-9ff0fab5d41f"
      },
      "source": [
        "#create a list of indices\n",
        "some_list = [0,1,2,3] #coudl be red, green, blue, purple\n",
        "# One hot encode our list of indices\n",
        "tf.one_hot(some_list, )"
      ],
      "execution_count": 115,
      "outputs": [
        {
          "output_type": "error",
          "ename": "TypeError",
          "evalue": "ignored",
          "traceback": [
            "\u001b[0;31m---------------------------------------------------------------------------\u001b[0m",
            "\u001b[0;31mTypeError\u001b[0m                                 Traceback (most recent call last)",
            "\u001b[0;32m<ipython-input-115-d4d1906859a5>\u001b[0m in \u001b[0;36m<module>\u001b[0;34m()\u001b[0m\n\u001b[1;32m      3\u001b[0m \u001b[0;34m\u001b[0m\u001b[0m\n\u001b[1;32m      4\u001b[0m \u001b[0;31m# One hot encode our list of indices\u001b[0m\u001b[0;34m\u001b[0m\u001b[0;34m\u001b[0m\u001b[0;34m\u001b[0m\u001b[0m\n\u001b[0;32m----> 5\u001b[0;31m \u001b[0mtf\u001b[0m\u001b[0;34m.\u001b[0m\u001b[0mone_hot\u001b[0m\u001b[0;34m(\u001b[0m\u001b[0msome_list\u001b[0m\u001b[0;34m)\u001b[0m\u001b[0;34m\u001b[0m\u001b[0;34m\u001b[0m\u001b[0m\n\u001b[0m",
            "\u001b[0;32m/usr/local/lib/python3.7/dist-packages/tensorflow/python/util/dispatch.py\u001b[0m in \u001b[0;36mwrapper\u001b[0;34m(*args, **kwargs)\u001b[0m\n\u001b[1;32m    204\u001b[0m     \u001b[0;34m\"\"\"Call target, and fall back on dispatchers if there is a TypeError.\"\"\"\u001b[0m\u001b[0;34m\u001b[0m\u001b[0;34m\u001b[0m\u001b[0m\n\u001b[1;32m    205\u001b[0m     \u001b[0;32mtry\u001b[0m\u001b[0;34m:\u001b[0m\u001b[0;34m\u001b[0m\u001b[0;34m\u001b[0m\u001b[0m\n\u001b[0;32m--> 206\u001b[0;31m       \u001b[0;32mreturn\u001b[0m \u001b[0mtarget\u001b[0m\u001b[0;34m(\u001b[0m\u001b[0;34m*\u001b[0m\u001b[0margs\u001b[0m\u001b[0;34m,\u001b[0m \u001b[0;34m**\u001b[0m\u001b[0mkwargs\u001b[0m\u001b[0;34m)\u001b[0m\u001b[0;34m\u001b[0m\u001b[0;34m\u001b[0m\u001b[0m\n\u001b[0m\u001b[1;32m    207\u001b[0m     \u001b[0;32mexcept\u001b[0m \u001b[0;34m(\u001b[0m\u001b[0mTypeError\u001b[0m\u001b[0;34m,\u001b[0m \u001b[0mValueError\u001b[0m\u001b[0;34m)\u001b[0m\u001b[0;34m:\u001b[0m\u001b[0;34m\u001b[0m\u001b[0;34m\u001b[0m\u001b[0m\n\u001b[1;32m    208\u001b[0m       \u001b[0;31m# Note: convert_to_eager_tensor currently raises a ValueError, not a\u001b[0m\u001b[0;34m\u001b[0m\u001b[0;34m\u001b[0m\u001b[0;34m\u001b[0m\u001b[0m\n",
            "\u001b[0;31mTypeError\u001b[0m: one_hot() missing 1 required positional argument: 'depth'"
          ]
        }
      ]
    },
    {
      "cell_type": "code",
      "metadata": {
        "colab": {
          "base_uri": "https://localhost:8080/"
        },
        "id": "x48Axb_u0ffz",
        "outputId": "a7d1c127-a540-43b6-a066-b205414ad301"
      },
      "source": [
        "#create a list of indices\n",
        "some_list = [0, 1, 2, 3] #coudl be red, green, blue, purple\n",
        "depth = 4\n",
        "# One hot encode our list of indices\n",
        "tf.one_hot(some_list,depth)"
      ],
      "execution_count": 119,
      "outputs": [
        {
          "output_type": "execute_result",
          "data": {
            "text/plain": [
              "<tf.Tensor: shape=(4, 4), dtype=float32, numpy=\n",
              "array([[1., 0., 0., 0.],\n",
              "       [0., 1., 0., 0.],\n",
              "       [0., 0., 1., 0.],\n",
              "       [0., 0., 0., 1.]], dtype=float32)>"
            ]
          },
          "metadata": {
            "tags": []
          },
          "execution_count": 119
        }
      ]
    },
    {
      "cell_type": "code",
      "metadata": {
        "colab": {
          "base_uri": "https://localhost:8080/"
        },
        "id": "gGipSs-101WQ",
        "outputId": "3177adbd-8621-4367-dd62-f8565a0283d5"
      },
      "source": [
        "# specify custom values for one hot encoding\n",
        "tf.one_hot(some_list, depth, on_value = \"2\", off_value=\"3\")"
      ],
      "execution_count": 125,
      "outputs": [
        {
          "output_type": "execute_result",
          "data": {
            "text/plain": [
              "<tf.Tensor: shape=(4, 4), dtype=string, numpy=\n",
              "array([[b'2', b'3', b'3', b'3'],\n",
              "       [b'3', b'2', b'3', b'3'],\n",
              "       [b'3', b'3', b'2', b'3'],\n",
              "       [b'3', b'3', b'3', b'2']], dtype=object)>"
            ]
          },
          "metadata": {
            "tags": []
          },
          "execution_count": 125
        }
      ]
    },
    {
      "cell_type": "markdown",
      "metadata": {
        "id": "iab5C_pk2dgP"
      },
      "source": [
        "### Squaring, log, square root"
      ]
    },
    {
      "cell_type": "code",
      "metadata": {
        "colab": {
          "base_uri": "https://localhost:8080/"
        },
        "id": "Qoc5lts-2bsi",
        "outputId": "9fe474cb-d9f2-4181-9e13-9c3f67e65a42"
      },
      "source": [
        "# Create a new tensor\n",
        "H = tf.range(1, 10)\n",
        "H\n"
      ],
      "execution_count": 127,
      "outputs": [
        {
          "output_type": "execute_result",
          "data": {
            "text/plain": [
              "<tf.Tensor: shape=(9,), dtype=int32, numpy=array([1, 2, 3, 4, 5, 6, 7, 8, 9], dtype=int32)>"
            ]
          },
          "metadata": {
            "tags": []
          },
          "execution_count": 127
        }
      ]
    },
    {
      "cell_type": "code",
      "metadata": {
        "colab": {
          "base_uri": "https://localhost:8080/"
        },
        "id": "zLnKSudN2lAt",
        "outputId": "4c1e2891-cc90-4932-9d8d-fe8184334c34"
      },
      "source": [
        "#Squrae it\n",
        "tf.square(H)"
      ],
      "execution_count": 128,
      "outputs": [
        {
          "output_type": "execute_result",
          "data": {
            "text/plain": [
              "<tf.Tensor: shape=(9,), dtype=int32, numpy=array([ 1,  4,  9, 16, 25, 36, 49, 64, 81], dtype=int32)>"
            ]
          },
          "metadata": {
            "tags": []
          },
          "execution_count": 128
        }
      ]
    },
    {
      "cell_type": "code",
      "metadata": {
        "colab": {
          "base_uri": "https://localhost:8080/",
          "height": 290
        },
        "id": "6inlfqL62qwc",
        "outputId": "61f3e1ba-0fc4-444a-dc79-9d79392de364"
      },
      "source": [
        "#find the square root (will error, method requries non-int type)\n",
        "tf.sqrt(H)"
      ],
      "execution_count": 129,
      "outputs": [
        {
          "output_type": "error",
          "ename": "InvalidArgumentError",
          "evalue": "ignored",
          "traceback": [
            "\u001b[0;31m---------------------------------------------------------------------------\u001b[0m",
            "\u001b[0;31mInvalidArgumentError\u001b[0m                      Traceback (most recent call last)",
            "\u001b[0;32m<ipython-input-129-5dae13fc4fee>\u001b[0m in \u001b[0;36m<module>\u001b[0;34m()\u001b[0m\n\u001b[1;32m      1\u001b[0m \u001b[0;31m#find the square root\u001b[0m\u001b[0;34m\u001b[0m\u001b[0;34m\u001b[0m\u001b[0;34m\u001b[0m\u001b[0m\n\u001b[0;32m----> 2\u001b[0;31m \u001b[0mtf\u001b[0m\u001b[0;34m.\u001b[0m\u001b[0msqrt\u001b[0m\u001b[0;34m(\u001b[0m\u001b[0mH\u001b[0m\u001b[0;34m)\u001b[0m\u001b[0;34m\u001b[0m\u001b[0;34m\u001b[0m\u001b[0m\n\u001b[0m",
            "\u001b[0;32m/usr/local/lib/python3.7/dist-packages/tensorflow/python/util/dispatch.py\u001b[0m in \u001b[0;36mwrapper\u001b[0;34m(*args, **kwargs)\u001b[0m\n\u001b[1;32m    204\u001b[0m     \u001b[0;34m\"\"\"Call target, and fall back on dispatchers if there is a TypeError.\"\"\"\u001b[0m\u001b[0;34m\u001b[0m\u001b[0;34m\u001b[0m\u001b[0m\n\u001b[1;32m    205\u001b[0m     \u001b[0;32mtry\u001b[0m\u001b[0;34m:\u001b[0m\u001b[0;34m\u001b[0m\u001b[0;34m\u001b[0m\u001b[0m\n\u001b[0;32m--> 206\u001b[0;31m       \u001b[0;32mreturn\u001b[0m \u001b[0mtarget\u001b[0m\u001b[0;34m(\u001b[0m\u001b[0;34m*\u001b[0m\u001b[0margs\u001b[0m\u001b[0;34m,\u001b[0m \u001b[0;34m**\u001b[0m\u001b[0mkwargs\u001b[0m\u001b[0;34m)\u001b[0m\u001b[0;34m\u001b[0m\u001b[0;34m\u001b[0m\u001b[0m\n\u001b[0m\u001b[1;32m    207\u001b[0m     \u001b[0;32mexcept\u001b[0m \u001b[0;34m(\u001b[0m\u001b[0mTypeError\u001b[0m\u001b[0;34m,\u001b[0m \u001b[0mValueError\u001b[0m\u001b[0;34m)\u001b[0m\u001b[0;34m:\u001b[0m\u001b[0;34m\u001b[0m\u001b[0;34m\u001b[0m\u001b[0m\n\u001b[1;32m    208\u001b[0m       \u001b[0;31m# Note: convert_to_eager_tensor currently raises a ValueError, not a\u001b[0m\u001b[0;34m\u001b[0m\u001b[0;34m\u001b[0m\u001b[0;34m\u001b[0m\u001b[0m\n",
            "\u001b[0;32m/usr/local/lib/python3.7/dist-packages/tensorflow/python/ops/math_ops.py\u001b[0m in \u001b[0;36msqrt\u001b[0;34m(x, name)\u001b[0m\n\u001b[1;32m   5084\u001b[0m     \u001b[0mA\u001b[0m\u001b[0;31m \u001b[0m\u001b[0;31m`\u001b[0m\u001b[0mtf\u001b[0m\u001b[0;34m.\u001b[0m\u001b[0mTensor\u001b[0m\u001b[0;31m`\u001b[0m \u001b[0mof\u001b[0m \u001b[0msame\u001b[0m \u001b[0msize\u001b[0m\u001b[0;34m,\u001b[0m \u001b[0mtype\u001b[0m \u001b[0;32mand\u001b[0m \u001b[0msparsity\u001b[0m \u001b[0;32mas\u001b[0m\u001b[0;31m \u001b[0m\u001b[0;31m`\u001b[0m\u001b[0mx\u001b[0m\u001b[0;31m`\u001b[0m\u001b[0;34m.\u001b[0m\u001b[0;34m\u001b[0m\u001b[0;34m\u001b[0m\u001b[0m\n\u001b[1;32m   5085\u001b[0m   \"\"\"\n\u001b[0;32m-> 5086\u001b[0;31m   \u001b[0;32mreturn\u001b[0m \u001b[0mgen_math_ops\u001b[0m\u001b[0;34m.\u001b[0m\u001b[0msqrt\u001b[0m\u001b[0;34m(\u001b[0m\u001b[0mx\u001b[0m\u001b[0;34m,\u001b[0m \u001b[0mname\u001b[0m\u001b[0;34m)\u001b[0m\u001b[0;34m\u001b[0m\u001b[0;34m\u001b[0m\u001b[0m\n\u001b[0m\u001b[1;32m   5087\u001b[0m \u001b[0;34m\u001b[0m\u001b[0m\n\u001b[1;32m   5088\u001b[0m \u001b[0;34m\u001b[0m\u001b[0m\n",
            "\u001b[0;32m/usr/local/lib/python3.7/dist-packages/tensorflow/python/ops/gen_math_ops.py\u001b[0m in \u001b[0;36msqrt\u001b[0;34m(x, name)\u001b[0m\n\u001b[1;32m  10207\u001b[0m       \u001b[0;32mreturn\u001b[0m \u001b[0m_result\u001b[0m\u001b[0;34m\u001b[0m\u001b[0;34m\u001b[0m\u001b[0m\n\u001b[1;32m  10208\u001b[0m     \u001b[0;32mexcept\u001b[0m \u001b[0m_core\u001b[0m\u001b[0;34m.\u001b[0m\u001b[0m_NotOkStatusException\u001b[0m \u001b[0;32mas\u001b[0m \u001b[0me\u001b[0m\u001b[0;34m:\u001b[0m\u001b[0;34m\u001b[0m\u001b[0;34m\u001b[0m\u001b[0m\n\u001b[0;32m> 10209\u001b[0;31m       \u001b[0m_ops\u001b[0m\u001b[0;34m.\u001b[0m\u001b[0mraise_from_not_ok_status\u001b[0m\u001b[0;34m(\u001b[0m\u001b[0me\u001b[0m\u001b[0;34m,\u001b[0m \u001b[0mname\u001b[0m\u001b[0;34m)\u001b[0m\u001b[0;34m\u001b[0m\u001b[0;34m\u001b[0m\u001b[0m\n\u001b[0m\u001b[1;32m  10210\u001b[0m     \u001b[0;32mexcept\u001b[0m \u001b[0m_core\u001b[0m\u001b[0;34m.\u001b[0m\u001b[0m_FallbackException\u001b[0m\u001b[0;34m:\u001b[0m\u001b[0;34m\u001b[0m\u001b[0;34m\u001b[0m\u001b[0m\n\u001b[1;32m  10211\u001b[0m       \u001b[0;32mpass\u001b[0m\u001b[0;34m\u001b[0m\u001b[0;34m\u001b[0m\u001b[0m\n",
            "\u001b[0;32m/usr/local/lib/python3.7/dist-packages/tensorflow/python/framework/ops.py\u001b[0m in \u001b[0;36mraise_from_not_ok_status\u001b[0;34m(e, name)\u001b[0m\n\u001b[1;32m   6895\u001b[0m   \u001b[0mmessage\u001b[0m \u001b[0;34m=\u001b[0m \u001b[0me\u001b[0m\u001b[0;34m.\u001b[0m\u001b[0mmessage\u001b[0m \u001b[0;34m+\u001b[0m \u001b[0;34m(\u001b[0m\u001b[0;34m\" name: \"\u001b[0m \u001b[0;34m+\u001b[0m \u001b[0mname\u001b[0m \u001b[0;32mif\u001b[0m \u001b[0mname\u001b[0m \u001b[0;32mis\u001b[0m \u001b[0;32mnot\u001b[0m \u001b[0;32mNone\u001b[0m \u001b[0;32melse\u001b[0m \u001b[0;34m\"\"\u001b[0m\u001b[0;34m)\u001b[0m\u001b[0;34m\u001b[0m\u001b[0;34m\u001b[0m\u001b[0m\n\u001b[1;32m   6896\u001b[0m   \u001b[0;31m# pylint: disable=protected-access\u001b[0m\u001b[0;34m\u001b[0m\u001b[0;34m\u001b[0m\u001b[0;34m\u001b[0m\u001b[0m\n\u001b[0;32m-> 6897\u001b[0;31m   \u001b[0msix\u001b[0m\u001b[0;34m.\u001b[0m\u001b[0mraise_from\u001b[0m\u001b[0;34m(\u001b[0m\u001b[0mcore\u001b[0m\u001b[0;34m.\u001b[0m\u001b[0m_status_to_exception\u001b[0m\u001b[0;34m(\u001b[0m\u001b[0me\u001b[0m\u001b[0;34m.\u001b[0m\u001b[0mcode\u001b[0m\u001b[0;34m,\u001b[0m \u001b[0mmessage\u001b[0m\u001b[0;34m)\u001b[0m\u001b[0;34m,\u001b[0m \u001b[0;32mNone\u001b[0m\u001b[0;34m)\u001b[0m\u001b[0;34m\u001b[0m\u001b[0;34m\u001b[0m\u001b[0m\n\u001b[0m\u001b[1;32m   6898\u001b[0m   \u001b[0;31m# pylint: enable=protected-access\u001b[0m\u001b[0;34m\u001b[0m\u001b[0;34m\u001b[0m\u001b[0;34m\u001b[0m\u001b[0m\n\u001b[1;32m   6899\u001b[0m \u001b[0;34m\u001b[0m\u001b[0m\n",
            "\u001b[0;32m/usr/local/lib/python3.7/dist-packages/six.py\u001b[0m in \u001b[0;36mraise_from\u001b[0;34m(value, from_value)\u001b[0m\n",
            "\u001b[0;31mInvalidArgumentError\u001b[0m: Value for attr 'T' of int32 is not in the list of allowed values: bfloat16, half, float, double, complex64, complex128\n\t; NodeDef: {{node Sqrt}}; Op<name=Sqrt; signature=x:T -> y:T; attr=T:type,allowed=[DT_BFLOAT16, DT_HALF, DT_FLOAT, DT_DOUBLE, DT_COMPLEX64, DT_COMPLEX128]> [Op:Sqrt]"
          ]
        }
      ]
    },
    {
      "cell_type": "markdown",
      "metadata": {
        "id": "q6Y2kwXf49rQ"
      },
      "source": [
        "Back to see how to change datatype\n",
        "\n",
        "https://colab.research.google.com/drive/18CC5NfTu0x8l-BCkOpDrAApmLPnZ8QtC#scrollTo=azWEfntmecKn&line=1&uniqifier=1"
      ]
    },
    {
      "cell_type": "code",
      "metadata": {
        "colab": {
          "base_uri": "https://localhost:8080/"
        },
        "id": "hq6Fo8na2wqL",
        "outputId": "cedd2d44-72ba-4ed9-e968-d108daa8ccb5"
      },
      "source": [
        "tf.square(tf.cast(H, dtype = tf.float32))"
      ],
      "execution_count": 134,
      "outputs": [
        {
          "output_type": "execute_result",
          "data": {
            "text/plain": [
              "<tf.Tensor: shape=(9,), dtype=float32, numpy=array([ 1.,  4.,  9., 16., 25., 36., 49., 64., 81.], dtype=float32)>"
            ]
          },
          "metadata": {
            "tags": []
          },
          "execution_count": 134
        }
      ]
    },
    {
      "cell_type": "code",
      "metadata": {
        "colab": {
          "base_uri": "https://localhost:8080/",
          "height": 181
        },
        "id": "iAEUa7uU284N",
        "outputId": "72c496e1-6ae5-4ae0-d229-3148898a96e3"
      },
      "source": [
        "#Find the log\n",
        "tf.math.log(H)"
      ],
      "execution_count": 135,
      "outputs": [
        {
          "output_type": "error",
          "ename": "AttributeError",
          "evalue": "ignored",
          "traceback": [
            "\u001b[0;31m---------------------------------------------------------------------------\u001b[0m",
            "\u001b[0;31mAttributeError\u001b[0m                            Traceback (most recent call last)",
            "\u001b[0;32m<ipython-input-135-2c9a5e6404ba>\u001b[0m in \u001b[0;36m<module>\u001b[0;34m()\u001b[0m\n\u001b[1;32m      1\u001b[0m \u001b[0;31m#Find the log\u001b[0m\u001b[0;34m\u001b[0m\u001b[0;34m\u001b[0m\u001b[0;34m\u001b[0m\u001b[0m\n\u001b[0;32m----> 2\u001b[0;31m \u001b[0mtf\u001b[0m\u001b[0;34m.\u001b[0m\u001b[0mlog\u001b[0m\u001b[0;34m\u001b[0m\u001b[0;34m\u001b[0m\u001b[0m\n\u001b[0m",
            "\u001b[0;31mAttributeError\u001b[0m: module 'tensorflow' has no attribute 'log'"
          ]
        }
      ]
    },
    {
      "cell_type": "code",
      "metadata": {
        "colab": {
          "base_uri": "https://localhost:8080/"
        },
        "id": "Hagwuu4e3fmp",
        "outputId": "c526a6f9-8756-470a-c245-c9487b593ead"
      },
      "source": [
        "tf.math.log(tf.cast(H, dtype = tf.float32))"
      ],
      "execution_count": 136,
      "outputs": [
        {
          "output_type": "execute_result",
          "data": {
            "text/plain": [
              "<tf.Tensor: shape=(9,), dtype=float32, numpy=\n",
              "array([0.       , 0.6931472, 1.0986123, 1.3862944, 1.609438 , 1.7917595,\n",
              "       1.9459102, 2.0794415, 2.1972246], dtype=float32)>"
            ]
          },
          "metadata": {
            "tags": []
          },
          "execution_count": 136
        }
      ]
    },
    {
      "cell_type": "markdown",
      "metadata": {
        "id": "WLCLZqX15QQ8"
      },
      "source": [
        "###Tensors and NumPy\n",
        "\n",
        "TensorFlow interacts beautifully with NumPy arrays.\n",
        "\n",
        "Note: One of the main differences between a TensorFlow tensor and a NumPy array is that a TensorFlow tensor can run a GPU or TPY for a faster processsing."
      ]
    },
    {
      "cell_type": "code",
      "metadata": {
        "colab": {
          "base_uri": "https://localhost:8080/"
        },
        "id": "VHynxYsw3seX",
        "outputId": "edde22cb-27a7-4f47-d4f9-02a0649c3dd8"
      },
      "source": [
        "# Create a tensor directly form a NumPy array\n",
        "J = tf.constant(np.array([3., 7., 10.]))\n",
        "J"
      ],
      "execution_count": 138,
      "outputs": [
        {
          "output_type": "execute_result",
          "data": {
            "text/plain": [
              "<tf.Tensor: shape=(3,), dtype=float64, numpy=array([ 3.,  7., 10.])>"
            ]
          },
          "metadata": {
            "tags": []
          },
          "execution_count": 138
        }
      ]
    },
    {
      "cell_type": "code",
      "metadata": {
        "colab": {
          "base_uri": "https://localhost:8080/"
        },
        "id": "ORP17BDc5ih3",
        "outputId": "fff38eb6-1f69-4425-a152-252f218a24b8"
      },
      "source": [
        "#Convert our tensor back to a Numpy array\n",
        "np.array(J), type(np.array(J))"
      ],
      "execution_count": 139,
      "outputs": [
        {
          "output_type": "execute_result",
          "data": {
            "text/plain": [
              "(array([ 3.,  7., 10.]), numpy.ndarray)"
            ]
          },
          "metadata": {
            "tags": []
          },
          "execution_count": 139
        }
      ]
    },
    {
      "cell_type": "code",
      "metadata": {
        "colab": {
          "base_uri": "https://localhost:8080/"
        },
        "id": "gYO5tIfi53sD",
        "outputId": "f5fdf32d-a4fb-4838-c03f-947ec718582f"
      },
      "source": [
        "# Conver tensor J to a NumPy array \n",
        "J.numpy(), type(J.numpy())"
      ],
      "execution_count": 140,
      "outputs": [
        {
          "output_type": "execute_result",
          "data": {
            "text/plain": [
              "(array([ 3.,  7., 10.]), numpy.ndarray)"
            ]
          },
          "metadata": {
            "tags": []
          },
          "execution_count": 140
        }
      ]
    },
    {
      "cell_type": "code",
      "metadata": {
        "colab": {
          "base_uri": "https://localhost:8080/"
        },
        "id": "M_5ZVsyX6Du0",
        "outputId": "14e4ed55-f6a4-4c27-bea0-a4d6a8a5a7ad"
      },
      "source": [
        "# the default types of each are slightly different\n",
        "numpy_J = tf.constant(np.array([3.,  7., 10.]))\n",
        "tensor_J = tf.constant([3.,  7., 10.])\n",
        "#Check the datatypes of each\n",
        "numpy_J.dtype, tensor_J.dtype"
      ],
      "execution_count": 146,
      "outputs": [
        {
          "output_type": "execute_result",
          "data": {
            "text/plain": [
              "(tf.float64, tf.float32)"
            ]
          },
          "metadata": {
            "tags": []
          },
          "execution_count": 146
        }
      ]
    },
    {
      "cell_type": "code",
      "metadata": {
        "id": "w42LX5oB6GyD"
      },
      "source": [
        "### Findign access to GPUs"
      ],
      "execution_count": 147,
      "outputs": []
    },
    {
      "cell_type": "code",
      "metadata": {
        "colab": {
          "base_uri": "https://localhost:8080/"
        },
        "id": "X1gMuuva702p",
        "outputId": "17bb8c30-2388-4ecf-e8c5-c42546429639"
      },
      "source": [
        "import tensorflow as tf\n",
        "tf.config.list_logical_devices()"
      ],
      "execution_count": 2,
      "outputs": [
        {
          "output_type": "execute_result",
          "data": {
            "text/plain": [
              "[LogicalDevice(name='/device:CPU:0', device_type='CPU'),\n",
              " LogicalDevice(name='/device:GPU:0', device_type='GPU')]"
            ]
          },
          "metadata": {
            "tags": []
          },
          "execution_count": 2
        }
      ]
    },
    {
      "cell_type": "code",
      "metadata": {
        "colab": {
          "base_uri": "https://localhost:8080/"
        },
        "id": "w_DeYzgR8HoB",
        "outputId": "8adecd82-e3e2-458f-cafe-4a9f48a3de4e"
      },
      "source": [
        "!nvidia-smi"
      ],
      "execution_count": 4,
      "outputs": [
        {
          "output_type": "stream",
          "text": [
            "Mon Aug 16 17:14:04 2021       \n",
            "+-----------------------------------------------------------------------------+\n",
            "| NVIDIA-SMI 470.57.02    Driver Version: 460.32.03    CUDA Version: 11.2     |\n",
            "|-------------------------------+----------------------+----------------------+\n",
            "| GPU  Name        Persistence-M| Bus-Id        Disp.A | Volatile Uncorr. ECC |\n",
            "| Fan  Temp  Perf  Pwr:Usage/Cap|         Memory-Usage | GPU-Util  Compute M. |\n",
            "|                               |                      |               MIG M. |\n",
            "|===============================+======================+======================|\n",
            "|   0  Tesla K80           Off  | 00000000:00:04.0 Off |                    0 |\n",
            "| N/A   46C    P0    60W / 149W |    122MiB / 11441MiB |      0%      Default |\n",
            "|                               |                      |                  N/A |\n",
            "+-------------------------------+----------------------+----------------------+\n",
            "                                                                               \n",
            "+-----------------------------------------------------------------------------+\n",
            "| Processes:                                                                  |\n",
            "|  GPU   GI   CI        PID   Type   Process name                  GPU Memory |\n",
            "|        ID   ID                                                   Usage      |\n",
            "|=============================================================================|\n",
            "|  No running processes found                                                 |\n",
            "+-----------------------------------------------------------------------------+\n"
          ],
          "name": "stdout"
        }
      ]
    },
    {
      "cell_type": "markdown",
      "metadata": {
        "id": "4CHtQM9r9dvd"
      },
      "source": [
        "**Note:** if you have access to a CUDA-enabel GPU, tensorflow will automatically use it whenever possible."
      ]
    }
  ]
}